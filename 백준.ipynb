{
  "nbformat": 4,
  "nbformat_minor": 0,
  "metadata": {
    "colab": {
      "name": "백준.ipynb",
      "provenance": [],
      "collapsed_sections": [],
      "machine_shape": "hm"
    },
    "kernelspec": {
      "name": "python3",
      "display_name": "Python 3"
    }
  },
  "cells": [
    {
      "cell_type": "markdown",
      "metadata": {
        "id": "ocjVnFOPWEjM",
        "colab_type": "text"
      },
      "source": [
        "* 다장조는 c d e f g a b C, 총 8개 음으로 이루어져있다. \n",
        "* 이 문제에서 \n",
        "8개 음은 다음과 같이 숫자로 바꾸어 표현한다. * c는 1로, d는 2로, ..., C를 8로 바꾼다.\n",
        "* 1부터 8까지 차례대로 연주한다면 ascending, * 8부터 1까지 차례대로 연주한다면 descending, 둘 다 아니라면 mixed 이다.\n",
        "* 연주한 순서가 주어졌을 때, 이것이 ascending인지, descending인지, \n",
        "아니면 mixed인지 판별하는 프로그램을 작성하시오.\n"
      ]
    },
    {
      "cell_type": "markdown",
      "metadata": {
        "id": "I2S14pyRWRpK",
        "colab_type": "text"
      },
      "source": [
        "입력\n",
        "* 첫째 줄에 8개 숫자가 주어진다. 이 숫자는 문제 설명에서 설명한 음이며, 1부터 8까지 숫자가 한 번씩 등장한다."
      ]
    },
    {
      "cell_type": "markdown",
      "metadata": {
        "id": "25bYUkHjWVK-",
        "colab_type": "text"
      },
      "source": [
        "출력\n",
        "* 첫째 줄에 ascending, descending, mixed 중 하나를 출력한다."
      ]
    },
    {
      "cell_type": "code",
      "metadata": {
        "id": "Dpa9EYNdWFtZ",
        "colab_type": "code",
        "colab": {}
      },
      "source": [
        "from random import randint"
      ],
      "execution_count": 5,
      "outputs": []
    },
    {
      "cell_type": "code",
      "metadata": {
        "id": "-GSkW8ftWi8U",
        "colab_type": "code",
        "colab": {
          "base_uri": "https://localhost:8080/",
          "height": 34
        },
        "outputId": "4767fea8-7266-4ef9-fcc7-b932c0d6d987"
      },
      "source": [
        "a = randint(1,9)\n",
        "print(a)"
      ],
      "execution_count": 6,
      "outputs": [
        {
          "output_type": "stream",
          "text": [
            "4\n"
          ],
          "name": "stdout"
        }
      ]
    },
    {
      "cell_type": "code",
      "metadata": {
        "id": "NPP4-m5uXf8V",
        "colab_type": "code",
        "colab": {
          "base_uri": "https://localhost:8080/",
          "height": 52
        },
        "outputId": "84369c6c-07a8-43e2-9caa-89b5583a2537"
      },
      "source": [
        "b = []\n",
        "i=0\n",
        "while(i==8):\n",
        "  a = randint(1,9)\n",
        "  if a not in b:\n",
        "    b.append(a)\n",
        "    i += 1\n",
        "c = [1,2,3,4,5,6,7,8]\n",
        "d = [8,7,6,5,4,3,2,1]\n",
        "print(b)\n",
        "if b == c:\n",
        "  print(\"asceding\")\n",
        "elif b == d:\n",
        "  print(\"descending\")\n",
        "else:\n",
        "  print(\"mixed\")"
      ],
      "execution_count": 8,
      "outputs": [
        {
          "output_type": "stream",
          "text": [
            "[]\n",
            "mixed\n"
          ],
          "name": "stdout"
        }
      ]
    },
    {
      "cell_type": "markdown",
      "metadata": {
        "id": "YUqEuVDHH2FR",
        "colab_type": "text"
      },
      "source": [
        "음계"
      ]
    },
    {
      "cell_type": "code",
      "metadata": {
        "id": "6y3bAXA3ZouU",
        "colab_type": "code",
        "colab": {
          "base_uri": "https://localhost:8080/",
          "height": 52
        },
        "outputId": "f8aab156-2f94-4d42-eeaf-588cd0f74af0"
      },
      "source": [
        "a = list(map(int, input().split(' ')))\n",
        "\n",
        "ascending = True\n",
        "descending = True\n",
        "\n",
        "for i in range(1, 8):\n",
        "    if a[i] > a[i - 1]:\n",
        "        descending = False\n",
        "    elif a[i] < a[i - 1]:\n",
        "        ascending = False\n",
        "\n",
        "if ascending:\n",
        "    print('ascending')\n",
        "elif descending:\n",
        "    print('descending')\n",
        "else:\n",
        "    print('mixed')"
      ],
      "execution_count": 10,
      "outputs": [
        {
          "output_type": "stream",
          "text": [
            "1 2 3 4 5 6 7 8\n",
            "ascending\n"
          ],
          "name": "stdout"
        }
      ]
    },
    {
      "cell_type": "markdown",
      "metadata": {
        "id": "ulzB9WflLwPj",
        "colab_type": "text"
      },
      "source": [
        "블랙잭\n",
        "\n",
        "카지노에서 제일 인기 있는 게임 블랙잭의 규칙은 상당히 쉽다. 카드의 합이 21을 넘지 않는 한도 내에서, 카드의 합을 최대한 크게 만드는 게임이다. 블랙잭은 카지노마다 다양한 규정이 있다.\n",
        "\n",
        "한국 최고의 블랙잭 고수 김정인은 새로운 블랙잭 규칙을 만들어 상근, 창영이와 게임하려고 한다.\n",
        "\n",
        "김정인 버전의 블랙잭에서 각 카드에는 양의 정수가 쓰여 있다. 그 다음, 딜러는 N장의 카드를 모두 숫자가 보이도록 바닥에 놓는다. 그런 후에 딜러는 숫자 M을 크게 외친다.\n",
        "\n",
        "이제 플레이어는 제한된 시간 안에 N장의 카드 중에서 3장의 카드를 골라야 한다. 블랙잭 변형 게임이기 때문에, 플레이어가 고른 카드의 합은 M을 넘지 않으면서 M과 최대한 가깝게 만들어야 한다.\n",
        "\n",
        "N장의 카드에 써져 있는 숫자가 주어졌을 때, M을 넘지 않으면서 M에 최대한 가까운 카드 3장의 합을 구해 출력하시오."
      ]
    },
    {
      "cell_type": "markdown",
      "metadata": {
        "id": "ERb9JlGfL7pg",
        "colab_type": "text"
      },
      "source": [
        "입력\n",
        "* 첫째 줄에 카드의 개수 N(3 ≤ N ≤ 100)과 M(10 ≤ M ≤ 300,000)이 주어진다. 둘째 줄에는 카드에 쓰여 있는 수가 주어지며, 이 값은 100,000을 넘지 않는다.\n",
        "\n",
        "* 합이 M을 넘지 않는 카드 3장을 찾을 수 있는 경우만 입력으로 주어진다."
      ]
    },
    {
      "cell_type": "markdown",
      "metadata": {
        "id": "mJU1_0kjMWos",
        "colab_type": "text"
      },
      "source": [
        "출력\n",
        "* 첫째 줄에 M을 넘지 않으면서 M에 최대한 가까운 카드 3장의 합을 출력한다."
      ]
    },
    {
      "cell_type": "code",
      "metadata": {
        "id": "49d3uhRRwsaq",
        "colab_type": "code",
        "colab": {
          "base_uri": "https://localhost:8080/",
          "height": 70
        },
        "outputId": "095d4a80-80c6-4a66-910b-cee24512a4af"
      },
      "source": [
        "n , m = list(map(int,input().split(' ')))\n",
        "data = list(map(int,input().split(' ')))\n",
        "\n",
        "\n",
        "result = 0\n",
        "sum = 0\n",
        "for i in range(0,len(data)):\n",
        "  for j in range(i+1,len(data)):\n",
        "    for k in range(j+1,len(data)):\n",
        "      sum = data[i] + data[j] + data[k]\n",
        "      if sum <= m:\n",
        "        result = max(result,sum)\n",
        "print(result)"
      ],
      "execution_count": 8,
      "outputs": [
        {
          "output_type": "stream",
          "text": [
            "3 21\n",
            "4 5 6 7 8\n",
            "21\n"
          ],
          "name": "stdout"
        }
      ]
    },
    {
      "cell_type": "code",
      "metadata": {
        "id": "9fSlI7ev5wnK",
        "colab_type": "code",
        "colab": {}
      },
      "source": [
        "import random\n",
        "\n",
        "n , m = list(map(int,input.split(' ')))\n",
        "data = list(map(int,input.split(' ')))\n",
        "\n",
        "result = 0\n",
        "length = len(data)\n",
        "# count = 0\n",
        "\n",
        "for i in range(0,length):\n",
        "  for j in range(i+1,length):\n",
        "    for k in range(j+1,length):\n",
        "      sum_value = data[i] + data[j] + data[k]\n",
        "      if sum_value <= m:\n",
        "        result = max(result, sum_value)\n",
        "\n",
        "\n"
      ],
      "execution_count": 10,
      "outputs": []
    },
    {
      "cell_type": "code",
      "metadata": {
        "id": "-QS5jBsqLvxC",
        "colab_type": "code",
        "colab": {
          "base_uri": "https://localhost:8080/",
          "height": 34
        },
        "outputId": "cd900a8d-c2dd-4e56-d948-8ccaa0054898"
      },
      "source": [
        "index2 = [1,2,3,4,5]\n",
        "index2.pop(index2.index(max(index2)))\n",
        "index2"
      ],
      "execution_count": 2,
      "outputs": [
        {
          "output_type": "execute_result",
          "data": {
            "text/plain": [
              "[1, 2, 3, 4]"
            ]
          },
          "metadata": {
            "tags": []
          },
          "execution_count": 2
        }
      ]
    },
    {
      "cell_type": "markdown",
      "metadata": {
        "id": "y4lCE8vkYk1R",
        "colab_type": "text"
      },
      "source": [
        "스택 (stack)은 기본적인 자료구조 중 하나로, 컴퓨터 프로그램을 작성할 때 자주 이용되는 개념이다. 스택은 자료를 넣는 (push) 입구와 자료를 뽑는 (pop) 입구가 같아 제일 나중에 들어간 자료가 제일 먼저 나오는 (LIFO, Last in First out) 특성을 가지고 있다.\n",
        "\n",
        "1부터 n까지의 수를 스택에 넣었다가 뽑아 늘어놓음으로써, 하나의 수열을 만들 수 있다. 이때, 스택에 push하는 순서는 반드시 오름차순을 지키도록 한다고 하자. 임의의 수열이 주어졌을 때 스택을 이용해 그 수열을 만들 수 있는지 없는지, 있다면 어떤 순서로 push와 pop 연산을 수행해야 하는지를 알아낼 수 있다. 이를 계산하는 프로그램을 작성하라."
      ]
    },
    {
      "cell_type": "markdown",
      "metadata": {
        "id": "byGhkgz_YxRs",
        "colab_type": "text"
      },
      "source": [
        "입력\n",
        "* 첫 줄에 n (1 ≤ n ≤ 100,000)이 주어진다. 둘째 줄부터 n개의 줄에는 수열을 이루는 1이상 n이하의 정수가 하나씩 순서대로 주어진다. 물론 같은 정수가 두 번 나오는 일은 없다."
      ]
    },
    {
      "cell_type": "markdown",
      "metadata": {
        "id": "B7pB1QvbYzRP",
        "colab_type": "text"
      },
      "source": [
        "출력\n",
        "* 입력된 수열을 만들기 위해 필요한 연산을 한 줄에 한 개씩 출력한다. push연산은 +로, pop 연산은 -로 표현하도록 한다. 불가능한 경우 NO를 출력한다."
      ]
    },
    {
      "cell_type": "code",
      "metadata": {
        "id": "JLYUEICBTqOE",
        "colab_type": "code",
        "colab": {
          "base_uri": "https://localhost:8080/",
          "height": 486
        },
        "outputId": "d68f5b37-2d3a-4137-be94-78401314a1b1"
      },
      "source": [
        "a = int(input())\n",
        "\n",
        "mlist = []\n",
        "stack = []\n",
        "\n",
        "for i in range(a):\n",
        "  b = int(input())\n",
        "  stack.append(b)\n",
        "\n",
        "for i in range(a):\n",
        "  mlist.append(i+1)\n",
        "\n",
        "mstack = []\n",
        "j = 0\n",
        "result = []\n",
        "print(mlist)\n",
        "for i in range(a):\n",
        "  if i>=1:\n",
        "    if mstack[-1] == stack[i]:\n",
        "      print(\"-\")\n",
        "      pass\n",
        "  for j in range(a):\n",
        "    if stack[i] != mlist[j]:\n",
        "      mstack.append(mlist[j])\n",
        "      del mlist[0]\n",
        "      print(\"+\")\n",
        "    elif stack[i] == mlist[j]:\n",
        "      mstack.append(mlist[j])\n",
        "      del mlist[0] \n",
        "      print(\"+\")\n",
        "      result.append(mstack.pop())\n",
        "      print(\"-\")\n",
        "      break\n",
        "\n",
        "print(stack)\n",
        "print(mlist)\n",
        "print(result)\n",
        "    \n"
      ],
      "execution_count": 27,
      "outputs": [
        {
          "output_type": "stream",
          "text": [
            "8\n",
            "4\n",
            "3\n",
            "6\n",
            "8\n",
            "7\n",
            "5\n",
            "2\n",
            "1\n",
            "[1, 2, 3, 4, 5, 6, 7, 8]\n",
            "+\n",
            "+\n",
            "+\n",
            "+\n"
          ],
          "name": "stdout"
        },
        {
          "output_type": "error",
          "ename": "IndexError",
          "evalue": "ignored",
          "traceback": [
            "\u001b[0;31m---------------------------------------------------------------------------\u001b[0m",
            "\u001b[0;31mIndexError\u001b[0m                                Traceback (most recent call last)",
            "\u001b[0;32m<ipython-input-27-5bb169fd8b36>\u001b[0m in \u001b[0;36m<module>\u001b[0;34m()\u001b[0m\n\u001b[1;32m     21\u001b[0m   \u001b[0;31m#     pass\u001b[0m\u001b[0;34m\u001b[0m\u001b[0;34m\u001b[0m\u001b[0;34m\u001b[0m\u001b[0m\n\u001b[1;32m     22\u001b[0m   \u001b[0;32mfor\u001b[0m \u001b[0mj\u001b[0m \u001b[0;32min\u001b[0m \u001b[0mrange\u001b[0m\u001b[0;34m(\u001b[0m\u001b[0ma\u001b[0m\u001b[0;34m)\u001b[0m\u001b[0;34m:\u001b[0m\u001b[0;34m\u001b[0m\u001b[0;34m\u001b[0m\u001b[0m\n\u001b[0;32m---> 23\u001b[0;31m     \u001b[0;32mif\u001b[0m \u001b[0mstack\u001b[0m\u001b[0;34m[\u001b[0m\u001b[0mi\u001b[0m\u001b[0;34m]\u001b[0m \u001b[0;34m!=\u001b[0m \u001b[0mmlist\u001b[0m\u001b[0;34m[\u001b[0m\u001b[0mj\u001b[0m\u001b[0;34m]\u001b[0m\u001b[0;34m:\u001b[0m\u001b[0;34m\u001b[0m\u001b[0;34m\u001b[0m\u001b[0m\n\u001b[0m\u001b[1;32m     24\u001b[0m       \u001b[0mmstack\u001b[0m\u001b[0;34m.\u001b[0m\u001b[0mappend\u001b[0m\u001b[0;34m(\u001b[0m\u001b[0mmlist\u001b[0m\u001b[0;34m[\u001b[0m\u001b[0mj\u001b[0m\u001b[0;34m]\u001b[0m\u001b[0;34m)\u001b[0m\u001b[0;34m\u001b[0m\u001b[0;34m\u001b[0m\u001b[0m\n\u001b[1;32m     25\u001b[0m       \u001b[0;32mdel\u001b[0m \u001b[0mmlist\u001b[0m\u001b[0;34m[\u001b[0m\u001b[0;36m0\u001b[0m\u001b[0;34m]\u001b[0m\u001b[0;34m\u001b[0m\u001b[0;34m\u001b[0m\u001b[0m\n",
            "\u001b[0;31mIndexError\u001b[0m: list index out of range"
          ]
        }
      ]
    },
    {
      "cell_type": "code",
      "metadata": {
        "id": "J-KB8Ldubo7X",
        "colab_type": "code",
        "colab": {
          "base_uri": "https://localhost:8080/",
          "height": 457
        },
        "outputId": "0ce99376-6170-4ec1-eb93-f6fd67230225"
      },
      "source": [
        "n = int(input())\n",
        "\n",
        "count = 1\n",
        "stack = []\n",
        "result = []\n",
        "\n",
        "for i in range(1,n+1):\n",
        "  data = int(input())\n",
        "  while count <= data:\n",
        "    stack.append(count)\n",
        "    count +=1\n",
        "    result.append(\"+\")\n",
        "  if stack[-1] == data:\n",
        "    stack.pop()\n",
        "    result.append(\"-\")\n",
        "  else:\n",
        "    print(\"NO\")\n",
        "    exit(0)\n",
        "print(\"\\n\".join(result))"
      ],
      "execution_count": 2,
      "outputs": [
        {
          "output_type": "stream",
          "text": [
            "8\n",
            "4\n",
            "3\n",
            "6\n",
            "8\n",
            "7\n",
            "5\n",
            "2\n",
            "1\n",
            "+\n",
            "+\n",
            "+\n",
            "+\n",
            "-\n",
            "-\n",
            "+\n",
            "+\n",
            "-\n",
            "+\n",
            "+\n",
            "-\n",
            "-\n",
            "-\n",
            "-\n",
            "-\n"
          ],
          "name": "stdout"
        }
      ]
    },
    {
      "cell_type": "code",
      "metadata": {
        "id": "FqdwqvsUqpED",
        "colab_type": "code",
        "colab": {
          "base_uri": "https://localhost:8080/",
          "height": 457
        },
        "outputId": "d10cc773-7b33-4ec1-e2cb-96c2ed05e74e"
      },
      "source": [
        "n = int(input())\n",
        "\n",
        "stack = []\n",
        "count = 1\n",
        "result = []\n",
        "\n",
        "for i in range(1,n+1):\n",
        "  data = int(input())\n",
        "  while count <= data:\n",
        "    stack.append(count)\n",
        "    count +=1\n",
        "    result.append(\"+\")\n",
        "  if stack[-1] == data:\n",
        "    stack.pop()\n",
        "    result.append('-')\n",
        "  else:\n",
        "    print(\"NO\")\n",
        "    exit(0)\n",
        "print(\"\\n\".join(result))"
      ],
      "execution_count": 5,
      "outputs": [
        {
          "output_type": "stream",
          "text": [
            "8\n",
            "4\n",
            "3\n",
            "6\n",
            "8\n",
            "7\n",
            "5\n",
            "2\n",
            "1\n",
            "+\n",
            "+\n",
            "+\n",
            "+\n",
            "-\n",
            "-\n",
            "+\n",
            "+\n",
            "-\n",
            "+\n",
            "+\n",
            "-\n",
            "-\n",
            "-\n",
            "-\n",
            "-\n"
          ],
          "name": "stdout"
        }
      ]
    },
    {
      "cell_type": "code",
      "metadata": {
        "id": "KsghUXBMvg3K",
        "colab_type": "code",
        "colab": {}
      },
      "source": [
        ""
      ],
      "execution_count": null,
      "outputs": []
    }
  ]
}