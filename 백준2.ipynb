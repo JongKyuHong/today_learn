{
  "nbformat": 4,
  "nbformat_minor": 0,
  "metadata": {
    "colab": {
      "name": "백준2.ipynb",
      "provenance": [],
      "collapsed_sections": []
    },
    "kernelspec": {
      "name": "python3",
      "display_name": "Python 3"
    }
  },
  "cells": [
    {
      "cell_type": "markdown",
      "metadata": {
        "id": "YkH6nXrs4si_",
        "colab_type": "text"
      },
      "source": [
        "문제\n",
        "* 여러분도 알다시피 여러분의 프린터 기기는 여러분이 인쇄하고자 하는 문서를 인쇄 명령을 받은 ‘순서대로’, 즉 먼저 요청된 것을 먼저 인쇄한다. 여러 개의 문서가 쌓인다면 Queue 자료구조에 쌓여서 FIFO - First In First Out - 에 따라 인쇄가 되게 된다. 하지만 상근이는 새로운 프린터기 내부 소프트웨어를 개발하였는데, 이 프린터기는 다음과 같은 조건에 따라 인쇄를 하게 된다.\n",
        "\n",
        "1.현재 Queue의 가장 앞에 있는 문서의 ‘중요도’를 확인한다.\n",
        "\n",
        "2.나머지 문서들 중 현재 문서보다 중요도가 높은 문서가 하나라도 있다면, 이 문서를 인쇄하지 않고 Queue의 가장 뒤에 재배치 한다. 그렇지 않다면 바로 인쇄를 한다.\n",
        "\n",
        "예를 들어 Queue에 4개의 문서(A B C D)가 있고, 중요도가 2 1 4 3 라면 C를 인쇄하고, 다음으로 D를 인쇄하고 A, B를 인쇄하게 된다.\n",
        "\n",
        "여러분이 할 일은, 현재 Queue에 있는 문서의 수와 중요도가 주어졌을 때, 어떤 한 문서가 몇 번째로 인쇄되는지 알아내는 것이다. 예를 들어 위의 예에서 C문서는 1번째로, A문서는 3번째로 인쇄되게 된다."
      ]
    },
    {
      "cell_type": "code",
      "metadata": {
        "id": "WvQwhr934pg9",
        "colab_type": "code",
        "colab": {
          "base_uri": "https://localhost:8080/",
          "height": 193
        },
        "outputId": "47c9499c-4107-44b4-fa11-3c7ebdf25f46"
      },
      "source": [
        "testcase = int(input())\n",
        "i = 0\n",
        "\n",
        "countv = [] \n",
        "mlist = []\n",
        "while i<testcase+1:\n",
        "  i+=1\n",
        "  count = 0\n",
        "  n , m = list(map(int,input().split(' ')))\n",
        "  importance = list(map(int,input().split(' ')))\n",
        "  for i in range(n):\n",
        "    if importance[i] == max(importance):\n",
        "      \n",
        "    if importance[m] <= importance[i]:\n",
        "      count +=1\n",
        "  countv.append(count)\n",
        "for i in range(len(countv)):\n",
        "  print(countv[i])"
      ],
      "execution_count": null,
      "outputs": [
        {
          "output_type": "stream",
          "text": [
            "3\n",
            "1 0\n",
            "5\n",
            "4 2\n",
            "1 2 3 4\n",
            "6 0\n",
            "1 1 9 1 1 1\n",
            "0\n",
            "1\n",
            "5\n"
          ],
          "name": "stdout"
        }
      ]
    },
    {
      "cell_type": "markdown",
      "metadata": {
        "id": "zaGdSJ-MyJOw",
        "colab_type": "text"
      },
      "source": [
        "문제\n",
        "* 창영이는 강산이의 비밀번호를 훔치기 위해서 강산이가 사용하는 컴퓨터에 키로거를 설치했다. 며칠을 기다린 끝에 창영이는 강산이가 비밀번호 창에 입력하는 글자를 얻어냈다.\n",
        "\n",
        "* 키로거는 사용자가 키보드를 누른 명령을 모두 기록한다. 따라서, 강산이가 비밀번호를 입력할 때, 화살표나 백스페이스를 입력해도 정확한 비밀번호를 알아낼 수 있다.\n",
        "\n",
        "* 강산이가 비밀번호 창에서 입력한 키가 주어졌을 때, 강산이의 비밀번호를 알아내는 프로그램을 작성하시오."
      ]
    },
    {
      "cell_type": "markdown",
      "metadata": {
        "id": "ZP10N-EpyQp4",
        "colab_type": "text"
      },
      "source": [
        "입력\n",
        "* 첫째 줄에 테스트 케이스의 개수가 주어진다. 각 테스트 케이스는 한줄로 이루어져 있고, 강산이가 입력한 순서대로 길이가 L인 문자열이 주어진다. (1 ≤ L의 길이 ≤ 1,000,000) 강산이가 백스페이스를 입력했다면, '-'가 주어진다. 이때 커서의 바로 앞에 글자가 존재한다면, 그 글자를 지운다. 화살표의 입력은 '<'와 '>'로 주어진다. 이때는 커서의 위치를 움직일 수 있다면, 왼쪽 또는 오른쪽으로 1만큼 움직인다. 나머지 문자는 비밀번호의 일부이다. 물론, 나중에 백스페이스를 통해서 지울 수는 있다. 만약 커서의 위치가 줄의 마지막이 아니라면, 그 문자를 입력하고, 커서는 오른쪽으로 한 칸 이동한다."
      ]
    },
    {
      "cell_type": "code",
      "metadata": {
        "id": "-DD0sWJ8-r0q",
        "colab_type": "code",
        "colab": {
          "base_uri": "https://localhost:8080/",
          "height": 239
        },
        "outputId": "dff70e90-476e-4ed1-a735-8c079d9f8e26"
      },
      "source": [
        "testcase = int(input()) # 테스트 케이스의 갯수\n",
        "for _ in range(testcase):\n",
        "  L = input()\n",
        "  \n"
      ],
      "execution_count": null,
      "outputs": [
        {
          "output_type": "error",
          "ename": "SyntaxError",
          "evalue": "ignored",
          "traceback": [
            "\u001b[0;36m  File \u001b[0;32m\"<ipython-input-1-1e06b838313d>\"\u001b[0;36m, line \u001b[0;32m2\u001b[0m\n\u001b[0;31m    * 첫째 줄에 테스트 케이스의 개수가 주어진다. 각 테스트 케이스는 한줄로 이루어져 있고, 강산이가 입력한 순서대로 길이가 L인 문자열이 주어진다. (1 ≤ L의 길이 ≤ 1,000,000) 강산이가 백스페이스를 입력했다면, '-'가 주어진다. 이때 커서의 바로 앞에 글자가 존재한다면, 그 글자를 지운다. 화살표의 입력은 '<'와 '>'로 주어진다. 이때는 커서의 위치를 움직일 수 있다면, 왼쪽 또는 오른쪽으로 1만큼 움직인다. 나머지 문자는 비밀번호의 일부이다. 물론, 나중에 백스페이스를 통해서 지울 수는 있다. 만약 커서의 위치가 줄의 마지막이 아니라면, 그 문자를 입력하고, 커서는 오른쪽으로 한 칸 이동한다.\u001b[0m\n\u001b[0m          ^\u001b[0m\n\u001b[0;31mSyntaxError\u001b[0m\u001b[0;31m:\u001b[0m invalid syntax\n"
          ]
        }
      ]
    },
    {
      "cell_type": "code",
      "metadata": {
        "id": "Eq4KO-veyPZI",
        "colab_type": "code",
        "colab": {
          "base_uri": "https://localhost:8080/",
          "height": 52
        },
        "outputId": "03ef284d-f8bf-41e1-f7a2-0430e5d12089"
      },
      "source": [
        "n = list(map(int,input().split(' ')))\n",
        "\n",
        "a=True\n",
        "d=True\n",
        "for i in range(1,len(n)):\n",
        "  if n[i] > n[i-1]:\n",
        "    d = False\n",
        "  elif n[i] < n[i-1]:\n",
        "    a = False\n",
        "if a == True:\n",
        "  print(\"ascending\")\n",
        "elif d == True:\n",
        "  print(\"descending\")\n",
        "else:\n",
        "  print(\"mixed\")  "
      ],
      "execution_count": 10,
      "outputs": [
        {
          "output_type": "stream",
          "text": [
            "8 1 7 2 6 3 5 4\n",
            "mixed\n"
          ],
          "name": "stdout"
        }
      ]
    },
    {
      "cell_type": "code",
      "metadata": {
        "id": "EmLSJ6O_ojHD",
        "colab_type": "code",
        "colab": {
          "base_uri": "https://localhost:8080/",
          "height": 70
        },
        "outputId": "4cac1746-4f03-4658-d9bb-05fd8e10d943"
      },
      "source": [
        "n,m = list(map(int,input().split(' ')))\n",
        "data = list(map(int,input().split(' ')))\n",
        "sum = 0\n",
        "result = 0 \n",
        "for i in range(0,len(data)):\n",
        "  for j in range(i+1,len(data)):\n",
        "    for k in range(j+1,len(data)):\n",
        "      sum = data[i] + data[j] + data[k]\n",
        "      if sum <=m:\n",
        "        result = max(sum,result)\n",
        "print(result)"
      ],
      "execution_count": 13,
      "outputs": [
        {
          "output_type": "stream",
          "text": [
            "10 500\n",
            "93 181 245 214 315 36 185 138 216 295\n",
            "497\n"
          ],
          "name": "stdout"
        }
      ]
    },
    {
      "cell_type": "code",
      "metadata": {
        "id": "zK22vF6aqD07",
        "colab_type": "code",
        "colab": {}
      },
      "source": [
        "n = int(input())\n",
        "\n",
        "count = 0\n",
        "for _ in range(len(n)):\n",
        "  data = int(input())\n",
        "  count +=1"
      ],
      "execution_count": null,
      "outputs": []
    }
  ]
}