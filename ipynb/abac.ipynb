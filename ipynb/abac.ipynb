{
 "cells": [
  {
   "cell_type": "code",
   "execution_count": 0,
   "metadata": {
    "colab": {},
    "colab_type": "code",
    "id": "sIMTx-ThcIj4"
   },
   "outputs": [],
   "source": [
    "from sklearn.ensemble import RandomForestRegressor\n",
    "from sklearn.datasets import make_moons"
   ]
  },
  {
   "cell_type": "code",
   "execution_count": 0,
   "metadata": {
    "colab": {},
    "colab_type": "code",
    "id": "VweaBSS5d5nP"
   },
   "outputs": [],
   "source": [
    "import pandas as pd"
   ]
  },
  {
   "cell_type": "code",
   "execution_count": 0,
   "metadata": {
    "colab": {},
    "colab_type": "code",
    "id": "P0tnhIHUd9oA"
   },
   "outputs": [],
   "source": [
    "train = pd.read_csv(\"train.csv\")\n",
    "test = pd.read_csv(\"test.csv\")"
   ]
  },
  {
   "cell_type": "code",
   "execution_count": 0,
   "metadata": {
    "colab": {},
    "colab_type": "code",
    "id": "MGhBUCad6AZY"
   },
   "outputs": [],
   "source": [
    "# @@time series\n",
    "# date : 집을 구매한 날짜\n",
    "# yr_built : 지어진 년도\n",
    "# yr_renovated : 집을 재건축한 년도\n",
    "\n",
    "# price : 집의 가격(Target variable)\n",
    "\n",
    "# @@structure var\n",
    "\n",
    "# bedrooms : 침실의 수\n",
    "# bathrooms : 화장실의 수\n",
    "# floors : 집의 층 수\n",
    "\n",
    "# @@field var \n",
    "\n",
    "# sqft_living : 주거 공간의 평방 피트(면적)\n",
    "# sqft_lot : 부지의 평방 피트(면적)\n",
    "# sqft_above : 지하실을 제외한 평방 피트(면적)\n",
    "# sqft_basement : 지하실의 평방 피트(면적)\n",
    "# sqft_above : 지하실을 제외한 평방 피트(면적)\n",
    "# sqft_basement : 지하실의 평방 피트(면적)\n",
    "\n",
    "# @@environmental \n",
    "\n",
    "# waterfront : 집의 전방에 강이 흐르는지 유무 (a.k.a. 리버뷰)\n",
    "# view : 집이 얼마나 좋아 보이는지의 정도\n",
    "# condition : 집의 전반적인 상태\n",
    "\n",
    "# @@other estimation \n",
    "\n",
    "# grade : King County grading 시스템 기준으로 매긴 집의 등급\n",
    "\n",
    "# @@ location \n",
    "# zipcode : 우편번호\n",
    "# lat : 위도\n",
    "# long : 경도"
   ]
  },
  {
   "cell_type": "code",
   "execution_count": 0,
   "metadata": {
    "colab": {
     "base_uri": "https://localhost:8080/",
     "height": 53
    },
    "colab_type": "code",
    "id": "iQknNuPqeoFZ",
    "outputId": "e8fc9c77-122d-48ed-e5a1-b760da164a0b"
   },
   "outputs": [
    {
     "name": "stdout",
     "output_type": "stream",
     "text": [
      "(15035, 21)\n",
      "(6555, 20)\n"
     ]
    }
   ],
   "source": [
    "print(train.shape)\n",
    "print(test.shape)"
   ]
  },
  {
   "cell_type": "code",
   "execution_count": 0,
   "metadata": {
    "colab": {},
    "colab_type": "code",
    "id": "R9FNQAoHfqFx"
   },
   "outputs": [],
   "source": [
    "x_all = train.drop(['price'], axis=1)\n",
    "y = train['price']"
   ]
  },
  {
   "cell_type": "code",
   "execution_count": 0,
   "metadata": {
    "colab": {},
    "colab_type": "code",
    "id": "yjVlDFdTgFy9"
   },
   "outputs": [],
   "source": [
    "# # sqft_lot : 부지의 평방 피트(면적)\n",
    "# # ft_libing : 주거 공간의 평방 피트(면적)\n",
    "\n",
    "# filedinfo = ['sqft_living','sqft_lot','sqft_above','sqft_basement','sqft_above','sqft_basement']\n",
    "# X = x_all[sel]\n",
    "# y = train['price']\n"
   ]
  },
  {
   "cell_type": "code",
   "execution_count": 0,
   "metadata": {
    "colab": {
     "base_uri": "https://localhost:8080/",
     "height": 521
    },
    "colab_type": "code",
    "id": "ikrT4IgtlUCS",
    "outputId": "76542f0c-708c-4cb0-a062-dace1e0b9a48"
   },
   "outputs": [
    {
     "name": "stdout",
     "output_type": "stream",
     "text": [
      "0    14928\n",
      "1      107\n",
      "Name: waterfront, dtype: int64\n",
      "0    13548\n",
      "2      665\n",
      "3      373\n",
      "1      241\n",
      "4      208\n",
      "Name: view, dtype: int64\n",
      "3    9793\n",
      "4    3956\n",
      "5    1155\n",
      "2     110\n",
      "1      21\n",
      "Name: condition, dtype: int64\n",
      "7     6228\n",
      "8     4207\n",
      "9     1855\n",
      "6     1406\n",
      "10     781\n",
      "11     288\n",
      "5      174\n",
      "12      61\n",
      "4       23\n",
      "13       9\n",
      "3        2\n",
      "1        1\n",
      "Name: grade, dtype: int64\n"
     ]
    }
   ],
   "source": [
    "print(train.waterfront.value_counts())\n",
    "print(train.view.value_counts())\n",
    "print(train.condition.value_counts())\n",
    "print(train.grade.value_counts())"
   ]
  },
  {
   "cell_type": "code",
   "execution_count": 0,
   "metadata": {
    "colab": {},
    "colab_type": "code",
    "id": "aX1wIT3g1N7K"
   },
   "outputs": [],
   "source": [
    "#X = x_all.columns.difference(['date','zipcode','lat','long','sqft_lot15','view','id','yr_built', 'yr_renovated']) # 시간 col 제외하고 다 선택\n",
    "#print(X) "
   ]
  },
  {
   "cell_type": "code",
   "execution_count": 0,
   "metadata": {
    "colab": {},
    "colab_type": "code",
    "id": "U6nxgH40l8sz"
   },
   "outputs": [],
   "source": [
    "# 평가 및 환경 요소들로 변수군 짜기 \n",
    "env_var = ['waterfront','view','condition','grade']\n",
    "seem_import = ['bedrooms', 'bathrooms' , 'floors', 'sqft_living', 'sqft_lot', 'sqft_above', 'sqft_basement', 'sqft_above', 'sqft_basement', 'grade' ]\n",
    "\n",
    "\n",
    "# 전체 변수 importnace 찾아내는 작업 \n",
    "X = x_all[seem_import] # 괜찮아 보이는 변수들로 모음 \n",
    "y = train['price']\n",
    "\n",
    "# idea .. 음 그냥 전체 돌리고 importance 큰 값들만 모아서 돌려볼까.. ? \n",
    "# 1) 그룹별로 묶어서 돌릴때랑 전체 다 돌릴때랑 importance 가 다를까? \n"
   ]
  },
  {
   "cell_type": "code",
   "execution_count": 0,
   "metadata": {
    "colab": {},
    "colab_type": "code",
    "id": "gXhA1G3flZC1"
   },
   "outputs": [],
   "source": [
    "## 데이터 나누기 \n",
    "X_train, X_test, y_train, y_test = train_test_split(X,y, random_state=42)"
   ]
  },
  {
   "cell_type": "code",
   "execution_count": 0,
   "metadata": {
    "colab": {},
    "colab_type": "code",
    "id": "pD-CSXNwg8Lt"
   },
   "outputs": [],
   "source": [
    "from sklearn.model_selection import train_test_split"
   ]
  },
  {
   "cell_type": "code",
   "execution_count": 0,
   "metadata": {
    "colab": {},
    "colab_type": "code",
    "id": "3i94pLXwhJD5"
   },
   "outputs": [],
   "source": [
    "\n",
    "model = RandomForestRegressor(n_estimators = 10,\n",
    "                              random_state=10)"
   ]
  },
  {
   "cell_type": "code",
   "execution_count": 0,
   "metadata": {
    "colab": {
     "base_uri": "https://localhost:8080/",
     "height": 53
    },
    "colab_type": "code",
    "id": "e1BxPMj0hN03",
    "outputId": "56db4f0e-efff-4c38-e89a-5e15eee1c3c6"
   },
   "outputs": [
    {
     "name": "stdout",
     "output_type": "stream",
     "text": [
      "0.9319330568787497\n",
      "0.5687562686825167\n"
     ]
    }
   ],
   "source": [
    "model.fit(X_train, y_train)\n",
    "print(model.score(X_train, y_train))\n",
    "print(model.score(X_test, y_test))"
   ]
  },
  {
   "cell_type": "code",
   "execution_count": 0,
   "metadata": {
    "colab": {
     "base_uri": "https://localhost:8080/",
     "height": 53
    },
    "colab_type": "code",
    "id": "uV1luwvcypus",
    "outputId": "dfcb4eea-fd4d-4326-834e-4a38ad043468"
   },
   "outputs": [
    {
     "data": {
      "text/plain": [
       "array([0.02455657, 0.0382834 , 0.02096197, 0.32543971, 0.11940881,\n",
       "       0.03738792, 0.02523026, 0.03327295, 0.02774722, 0.34771118])"
      ]
     },
     "execution_count": 105,
     "metadata": {
      "tags": []
     },
     "output_type": "execute_result"
    }
   ],
   "source": [
    "model.feature_importances_"
   ]
  },
  {
   "cell_type": "code",
   "execution_count": 0,
   "metadata": {
    "colab": {},
    "colab_type": "code",
    "id": "008JZO7litlL"
   },
   "outputs": [],
   "source": [
    "## model score upgrade 시키기 \n",
    "## 1 변수 선택. 상관관계가 높고, 독립적인 변수를 선택 \n",
    "## 2 하이퍼파라미터 - n_estimators 수정해본다. \n",
    "## 최종적으로 모델 score 를 올려보자. \n"
   ]
  },
  {
   "cell_type": "code",
   "execution_count": 0,
   "metadata": {
    "colab": {},
    "colab_type": "code",
    "id": "YnFAdzvA5FkJ"
   },
   "outputs": [],
   "source": []
  }
 ],
 "metadata": {
  "colab": {
   "collapsed_sections": [],
   "name": "박재완.ipynb",
   "provenance": []
  },
  "kernelspec": {
   "display_name": "Python 3",
   "language": "python",
   "name": "python3"
  },
  "language_info": {
   "codemirror_mode": {
    "name": "ipython",
    "version": 3
   },
   "file_extension": ".py",
   "mimetype": "text/x-python",
   "name": "python",
   "nbconvert_exporter": "python",
   "pygments_lexer": "ipython3",
   "version": "3.7.7"
  }
 },
 "nbformat": 4,
 "nbformat_minor": 1
}
