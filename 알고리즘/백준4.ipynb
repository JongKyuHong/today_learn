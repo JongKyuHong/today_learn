{
  "nbformat": 4,
  "nbformat_minor": 0,
  "metadata": {
    "colab": {
      "name": "백준4.ipynb",
      "provenance": [],
      "collapsed_sections": []
    },
    "kernelspec": {
      "name": "python3",
      "display_name": "Python 3"
    }
  },
  "cells": [
    {
      "cell_type": "code",
      "metadata": {
        "id": "IcoE6qoB40MM",
        "colab_type": "code",
        "colab": {}
      },
      "source": [
        "## https://solved.ac/class"
      ],
      "execution_count": null,
      "outputs": []
    },
    {
      "cell_type": "code",
      "metadata": {
        "id": "0LLMRmK-488V",
        "colab_type": "code",
        "colab": {
          "base_uri": "https://localhost:8080/",
          "height": 71
        },
        "outputId": "7f47e457-d8a8-4924-8e7a-508ae3d03c1d"
      },
      "source": [
        "## 체스판 다시 칠하기 https://www.acmicpc.net/problem/1018\n",
        "n,m = list(map(int,input().split(' ')))\n",
        "count = 0\n",
        "\n",
        "for i in range(n):\n",
        "  ch = input()\n",
        "  for j in range(m):\n",
        "    if j == 0:\n",
        "      if ch[j] == 'B':\n",
        "        \n",
        "      else:\n",
        "      continue\n",
        "    else:\n",
        "      if ch[j] == ch[j-1]:\n",
        "        if ch[j+1] == ch[j]: \n",
        "          count +=1\n",
        "print(count)\n",
        "## https://juhee-maeng.tistory.com/51 풀이\n"
      ],
      "execution_count": null,
      "outputs": [
        {
          "output_type": "stream",
          "text": [
            "1 1\n",
            "BWBBBWBW\n",
            "0\n"
          ],
          "name": "stdout"
        }
      ]
    },
    {
      "cell_type": "code",
      "metadata": {
        "id": "ygNZtc-45AX0",
        "colab_type": "code",
        "colab": {
          "base_uri": "https://localhost:8080/",
          "height": 53
        },
        "outputId": "606bb1f1-4940-4c14-efc1-1373893c0394"
      },
      "source": [
        "## 직사각형에서 탈출 https://www.acmicpc.net/problem/1085\n",
        "\n",
        "x,y,w,h = list(map(int,input().split(\" \")))\n",
        "min = x\n",
        "\n",
        "if min > y:\n",
        "  min = y\n",
        "if min > (w-x):\n",
        "  min = w-x\n",
        "if min > (h-y):\n",
        "  min = h-y\n",
        "print(min)"
      ],
      "execution_count": null,
      "outputs": [
        {
          "output_type": "stream",
          "text": [
            "6 2 10 3\n",
            "1\n"
          ],
          "name": "stdout"
        }
      ]
    },
    {
      "cell_type": "code",
      "metadata": {
        "id": "7TH5vjtt7aNh",
        "colab_type": "code",
        "colab": {
          "base_uri": "https://localhost:8080/",
          "height": 467
        },
        "outputId": "6f4d34c4-3a18-4826-af3d-175b598f056a"
      },
      "source": [
        "## 단어 정렬 https://www.acmicpc.net/problem/1181\n",
        "\n",
        "n = int(input())\n",
        "a = []\n",
        "b = []\n",
        "for i in range(n):\n",
        "  w = input()\n",
        "  a.append(w)\n",
        "a.sort()\n",
        "a.sort(key=len) \n",
        "for i in a:\n",
        "  if i not in b:\n",
        "    b.append(i)\n",
        "for i in b:\n",
        "  print(i)\n",
        "    "
      ],
      "execution_count": null,
      "outputs": [
        {
          "output_type": "stream",
          "text": [
            "13\n",
            "but\n",
            "i\n",
            "wont\n",
            "hesitate\n",
            "no\n",
            "more\n",
            "no\n",
            "more\n",
            "it\n",
            "cannot\n",
            "wait\n",
            "im\n",
            "yours\n",
            "i\n",
            "im\n",
            "it\n",
            "no\n",
            "but\n",
            "more\n",
            "wait\n",
            "wont\n",
            "yours\n",
            "cannot\n",
            "hesitate\n"
          ],
          "name": "stdout"
        }
      ]
    },
    {
      "cell_type": "code",
      "metadata": {
        "id": "HVSAwHFNBEFd",
        "colab_type": "code",
        "colab": {
          "base_uri": "https://localhost:8080/",
          "height": 35
        },
        "outputId": "7e0d0b01-75ca-4fee-d030-8da47e0dfe06"
      },
      "source": [
        "## 팰린드롬수 https://www.acmicpc.net/problem/1259\n",
        "while True:\n",
        "  w = input()\n",
        "  mid = len(w)//2\n",
        "  if w == '0': break\n",
        "  elif len(w)%2 != 0: w=w.replace(w[mid],'',1)\n",
        "  if w[:mid] == w[:mid-1:-1]: print(\"yes\")\n",
        "  else: print(\"no\")"
      ],
      "execution_count": 8,
      "outputs": [
        {
          "output_type": "stream",
          "text": [
            "0\n"
          ],
          "name": "stdout"
        }
      ]
    },
    {
      "cell_type": "code",
      "metadata": {
        "id": "WvUCEeOHBRgO",
        "colab_type": "code",
        "colab": {
          "base_uri": "https://localhost:8080/",
          "height": 53
        },
        "outputId": "2fd7b93c-21cb-4477-b0e0-2ce59d676e1a"
      },
      "source": [
        "## 영화감독 숌 https://www.acmicpc.net/problem/1436\n",
        "\n",
        "n = int(input())\n",
        "x=666\n",
        "while n:\n",
        "  if '666' in str(x):\n",
        "    n-=1\n",
        "  x+=1\n",
        "print(x-1)  "
      ],
      "execution_count": 18,
      "outputs": [
        {
          "output_type": "stream",
          "text": [
            "10\n",
            "9666\n"
          ],
          "name": "stdout"
        }
      ]
    },
    {
      "cell_type": "code",
      "metadata": {
        "id": "Y6RxUC8KLfYz",
        "colab_type": "code",
        "colab": {
          "base_uri": "https://localhost:8080/",
          "height": 53
        },
        "outputId": "5b97eab0-54c5-4b01-af27-b198f3056765"
      },
      "source": [
        "## 숌 풀이\n",
        "\n",
        "n = int(input())\n",
        "x=666\n",
        "while n:\n",
        "  if '666' in str(x):\n",
        "    n-=1\n",
        "  x+=1\n",
        "print(x-1)"
      ],
      "execution_count": 17,
      "outputs": [
        {
          "output_type": "stream",
          "text": [
            "10\n",
            "6663\n"
          ],
          "name": "stdout"
        }
      ]
    },
    {
      "cell_type": "code",
      "metadata": {
        "id": "HgYypmP4NuyN",
        "colab_type": "code",
        "colab": {
          "base_uri": "https://localhost:8080/",
          "height": 125
        },
        "outputId": "75bc307b-cfcb-4e69-bd82-648a0f9e07f6"
      },
      "source": [
        "## 랜선 자르기 https://www.acmicpc.net/problem/1654\n"
      ],
      "execution_count": 19,
      "outputs": [
        {
          "output_type": "stream",
          "text": [
            "4 11\n",
            "802\n",
            "743\n",
            "457\n",
            "539\n",
            "200\n"
          ],
          "name": "stdout"
        }
      ]
    },
    {
      "cell_type": "code",
      "metadata": {
        "id": "h81YPMXaYArV",
        "colab_type": "code",
        "colab": {}
      },
      "source": [
        "## 스택 수열 https://www.acmicpc.net/problem/1874\n",
        "\n",
        "n = int(input())\n",
        "a = []\n",
        "for _ in range(n):\n",
        "  w = int(input())\n",
        "  a.append(w)\n",
        "\n",
        "for i in a:\n",
        "  "
      ],
      "execution_count": null,
      "outputs": []
    }
  ]
}