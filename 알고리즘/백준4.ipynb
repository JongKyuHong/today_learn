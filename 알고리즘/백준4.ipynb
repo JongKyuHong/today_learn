{
  "nbformat": 4,
  "nbformat_minor": 0,
  "metadata": {
    "colab": {
      "name": "백준4.ipynb",
      "provenance": [],
      "collapsed_sections": []
    },
    "kernelspec": {
      "name": "python3",
      "display_name": "Python 3"
    }
  },
  "cells": [
    {
      "cell_type": "markdown",
      "metadata": {
        "id": "LFZyNsaHJ06W",
        "colab_type": "text"
      },
      "source": [
        "## https://solved.ac/class"
      ]
    },
    {
      "cell_type": "code",
      "metadata": {
        "id": "0LLMRmK-488V",
        "colab_type": "code",
        "colab": {
          "base_uri": "https://localhost:8080/",
          "height": 71
        },
        "outputId": "7f47e457-d8a8-4924-8e7a-508ae3d03c1d"
      },
      "source": [
        "## 체스판 다시 칠하기 https://www.acmicpc.net/problem/1018\n",
        "n,m = list(map(int,input().split(' ')))\n",
        "count = 0\n",
        "\n",
        "for i in range(n):\n",
        "  ch = input()\n",
        "  for j in range(m):\n",
        "    if j == 0:\n",
        "      if ch[j] == 'B':\n",
        "        \n",
        "      else:\n",
        "      continue\n",
        "    else:\n",
        "      if ch[j] == ch[j-1]:\n",
        "        if ch[j+1] == ch[j]: \n",
        "          count +=1\n",
        "print(count)\n",
        "## https://juhee-maeng.tistory.com/51 풀이\n"
      ],
      "execution_count": null,
      "outputs": [
        {
          "output_type": "stream",
          "text": [
            "1 1\n",
            "BWBBBWBW\n",
            "0\n"
          ],
          "name": "stdout"
        }
      ]
    },
    {
      "cell_type": "code",
      "metadata": {
        "id": "ygNZtc-45AX0",
        "colab_type": "code",
        "colab": {
          "base_uri": "https://localhost:8080/",
          "height": 53
        },
        "outputId": "606bb1f1-4940-4c14-efc1-1373893c0394"
      },
      "source": [
        "## 직사각형에서 탈출 https://www.acmicpc.net/problem/1085\n",
        "\n",
        "x,y,w,h = list(map(int,input().split(\" \")))\n",
        "min = x\n",
        "\n",
        "if min > y:\n",
        "  min = y\n",
        "if min > (w-x):\n",
        "  min = w-x\n",
        "if min > (h-y):\n",
        "  min = h-y\n",
        "print(min)"
      ],
      "execution_count": null,
      "outputs": [
        {
          "output_type": "stream",
          "text": [
            "6 2 10 3\n",
            "1\n"
          ],
          "name": "stdout"
        }
      ]
    },
    {
      "cell_type": "code",
      "metadata": {
        "id": "7TH5vjtt7aNh",
        "colab_type": "code",
        "colab": {
          "base_uri": "https://localhost:8080/",
          "height": 467
        },
        "outputId": "6f4d34c4-3a18-4826-af3d-175b598f056a"
      },
      "source": [
        "## 단어 정렬 https://www.acmicpc.net/problem/1181\n",
        "\n",
        "n = int(input())\n",
        "a = []\n",
        "b = []\n",
        "for i in range(n):\n",
        "  w = input()\n",
        "  a.append(w)\n",
        "a.sort()\n",
        "a.sort(key=len) \n",
        "for i in a:\n",
        "  if i not in b:\n",
        "    b.append(i)\n",
        "for i in b:\n",
        "  print(i)\n",
        "    "
      ],
      "execution_count": null,
      "outputs": [
        {
          "output_type": "stream",
          "text": [
            "13\n",
            "but\n",
            "i\n",
            "wont\n",
            "hesitate\n",
            "no\n",
            "more\n",
            "no\n",
            "more\n",
            "it\n",
            "cannot\n",
            "wait\n",
            "im\n",
            "yours\n",
            "i\n",
            "im\n",
            "it\n",
            "no\n",
            "but\n",
            "more\n",
            "wait\n",
            "wont\n",
            "yours\n",
            "cannot\n",
            "hesitate\n"
          ],
          "name": "stdout"
        }
      ]
    },
    {
      "cell_type": "code",
      "metadata": {
        "id": "HVSAwHFNBEFd",
        "colab_type": "code",
        "colab": {
          "base_uri": "https://localhost:8080/",
          "height": 35
        },
        "outputId": "7e0d0b01-75ca-4fee-d030-8da47e0dfe06"
      },
      "source": [
        "## 팰린드롬수 https://www.acmicpc.net/problem/1259\n",
        "while True:\n",
        "  w = input()\n",
        "  mid = len(w)//2\n",
        "  if w == '0': break\n",
        "  elif len(w)%2 != 0: w=w.replace(w[mid],'',1)\n",
        "  if w[:mid] == w[:mid-1:-1]: print(\"yes\")\n",
        "  else: print(\"no\")"
      ],
      "execution_count": null,
      "outputs": [
        {
          "output_type": "stream",
          "text": [
            "0\n"
          ],
          "name": "stdout"
        }
      ]
    },
    {
      "cell_type": "code",
      "metadata": {
        "id": "WvUCEeOHBRgO",
        "colab_type": "code",
        "colab": {
          "base_uri": "https://localhost:8080/",
          "height": 53
        },
        "outputId": "2fd7b93c-21cb-4477-b0e0-2ce59d676e1a"
      },
      "source": [
        "## 영화감독 숌 https://www.acmicpc.net/problem/1436\n",
        "\n",
        "n = int(input())\n",
        "x=666\n",
        "while n:\n",
        "  if '666' in str(x):\n",
        "    n-=1\n",
        "  x+=1\n",
        "print(x-1)  "
      ],
      "execution_count": null,
      "outputs": [
        {
          "output_type": "stream",
          "text": [
            "10\n",
            "9666\n"
          ],
          "name": "stdout"
        }
      ]
    },
    {
      "cell_type": "code",
      "metadata": {
        "id": "Y6RxUC8KLfYz",
        "colab_type": "code",
        "colab": {
          "base_uri": "https://localhost:8080/",
          "height": 53
        },
        "outputId": "5b97eab0-54c5-4b01-af27-b198f3056765"
      },
      "source": [
        "## 숌 풀이\n",
        "\n",
        "n = int(input())\n",
        "x=666\n",
        "while n:\n",
        "  if '666' in str(x):\n",
        "    n-=1\n",
        "  x+=1\n",
        "print(x-1)"
      ],
      "execution_count": null,
      "outputs": [
        {
          "output_type": "stream",
          "text": [
            "10\n",
            "6663\n"
          ],
          "name": "stdout"
        }
      ]
    },
    {
      "cell_type": "code",
      "metadata": {
        "id": "HgYypmP4NuyN",
        "colab_type": "code",
        "colab": {
          "base_uri": "https://localhost:8080/",
          "height": 125
        },
        "outputId": "75bc307b-cfcb-4e69-bd82-648a0f9e07f6"
      },
      "source": [
        "## 랜선 자르기 https://www.acmicpc.net/problem/1654\n"
      ],
      "execution_count": null,
      "outputs": [
        {
          "output_type": "stream",
          "text": [
            "4 11\n",
            "802\n",
            "743\n",
            "457\n",
            "539\n",
            "200\n"
          ],
          "name": "stdout"
        }
      ]
    },
    {
      "cell_type": "code",
      "metadata": {
        "id": "h81YPMXaYArV",
        "colab_type": "code",
        "colab": {
          "base_uri": "https://localhost:8080/",
          "height": 611
        },
        "outputId": "b761defb-92b2-4411-c4b2-89faad574c9b"
      },
      "source": [
        "## 스택 수열 https://www.acmicpc.net/problem/1874\n",
        "\n",
        "n = int(input())\n",
        "a = []\n",
        "b = []\n",
        "count = 0\n",
        "\n",
        "for _ in range(n):\n",
        "  w = int(input())\n",
        "  a.append(w)\n",
        "\n",
        "for i,v in enumerate(a):\n",
        "  if i == 0:\n",
        "    for j in range(v):\n",
        "      count +=1\n",
        "      b.append(\"+\")\n",
        "  elif a[i] > a[i-1]:\n",
        "    for k in range(a[i-1],a[i]+1):\n",
        "      count +=1\n",
        "      b.append(\"+\")\n",
        "  elif a[i] < a[i-1]:\n",
        "    for k in range(a[i],a[i-1]+1):\n",
        "      count -=1\n",
        "      b.append(\"-\")\n",
        "\n",
        "for i in b:\n",
        "  print(i)\n",
        "\n",
        "\n"
      ],
      "execution_count": null,
      "outputs": [
        {
          "output_type": "stream",
          "text": [
            "8\n",
            "4\n",
            "3\n",
            "6\n",
            "8\n",
            "7\n",
            "5\n",
            "2\n",
            "1\n",
            "+\n",
            "+\n",
            "+\n",
            "+\n",
            "-\n",
            "-\n",
            "+\n",
            "+\n",
            "+\n",
            "+\n",
            "+\n",
            "+\n",
            "+\n",
            "-\n",
            "-\n",
            "-\n",
            "-\n",
            "-\n",
            "-\n",
            "-\n",
            "-\n",
            "-\n",
            "-\n",
            "-\n"
          ],
          "name": "stdout"
        }
      ]
    },
    {
      "cell_type": "code",
      "metadata": {
        "id": "nGTjwFFzKKLE",
        "colab_type": "code",
        "colab": {
          "base_uri": "https://localhost:8080/",
          "height": 300
        },
        "outputId": "1c736e17-101e-4d6c-e391-4c57cb9ad7be"
      },
      "source": [
        "import sys\n",
        "n = int(input())\n",
        "a = []\n",
        "b = []\n",
        "c = []\n",
        "num = 0\n",
        "for _ in range(n):\n",
        "  w = int(input())\n",
        "  a.append(w)\n",
        "a.reverse()\n",
        "\n",
        "\n",
        "while a:\n",
        "  h = a.pop()\n",
        "  if b:\n",
        "    if b[-1] == h:\n",
        "      b.pop()\n",
        "      c.append(\"-\")\n",
        "    elif b[-1] < h:\n",
        "      while b[-1] != h:\n",
        "        num +=1\n",
        "        b.append(num)\n",
        "        c.append(\"+\")\n",
        "      b.pop()\n",
        "      c.append(\"-\")\n",
        "    else:\n",
        "      print(\"NO\")\n",
        "      sys.exit(0)\n",
        "  else:\n",
        "    for i in range(1,h+1):\n",
        "      b.append(i)\n",
        "      c.append(\"+\")  \n",
        "      num += 1\n",
        "    b.pop()\n",
        "    c.append(\"-\")  \n",
        "\n",
        "for i in c:\n",
        "  print(i)\n"
      ],
      "execution_count": null,
      "outputs": [
        {
          "output_type": "stream",
          "text": [
            "5\n",
            "1\n",
            "2\n",
            "5\n",
            "3\n",
            "4\n",
            "NO\n"
          ],
          "name": "stdout"
        },
        {
          "output_type": "error",
          "ename": "SystemExit",
          "evalue": "ignored",
          "traceback": [
            "An exception has occurred, use %tb to see the full traceback.\n",
            "\u001b[0;31mSystemExit\u001b[0m\u001b[0;31m:\u001b[0m 0\n"
          ]
        },
        {
          "output_type": "stream",
          "text": [
            "/usr/local/lib/python3.6/dist-packages/IPython/core/interactiveshell.py:2890: UserWarning: To exit: use 'exit', 'quit', or Ctrl-D.\n",
            "  warn(\"To exit: use 'exit', 'quit', or Ctrl-D.\", stacklevel=1)\n"
          ],
          "name": "stderr"
        }
      ]
    },
    {
      "cell_type": "code",
      "metadata": {
        "id": "ydOKbSuEkEnk",
        "colab_type": "code",
        "colab": {
          "base_uri": "https://localhost:8080/",
          "height": 305
        },
        "outputId": "7752349f-2b4b-4e70-9455-909a60078542"
      },
      "source": [
        "n = int(input())\n",
        "count = 1\n",
        "stack = []\n",
        "result = []\n",
        "# for i in range(1,n+1):\n",
        "#   data = int(input())\n",
        "#   while count <= data:\n",
        "#     stack.append(count)\n",
        "#     result.append(\"+\")\n",
        "#     count += 1\n",
        "#   if stack[-1] == data:\n",
        "#     stack.pop()\n",
        "#     result.append(\"-\")\n",
        "#   else:\n",
        "#     print(\"NO\")\n",
        "#     exit(0)\n",
        "for i in range(1, n + 1):\n",
        "    data = int(input())\n",
        "    while count <= data:\n",
        "        stack.append(count)\n",
        "        count += 1\n",
        "        result.append('+')\n",
        "    if stack[-1] == data:\n",
        "        stack.pop()\n",
        "        result.append('-')\n",
        "    else:\n",
        "        print('NO')\n",
        "        exit(0)\n",
        "print('\\n'.join(result)) "
      ],
      "execution_count": null,
      "outputs": [
        {
          "output_type": "stream",
          "text": [
            "5\n",
            "1\n",
            "2\n",
            "5\n",
            "3\n",
            "NO\n",
            "4\n",
            "+\n",
            "-\n",
            "+\n",
            "-\n",
            "+\n",
            "+\n",
            "+\n",
            "-\n",
            "-\n"
          ],
          "name": "stdout"
        }
      ]
    },
    {
      "cell_type": "code",
      "metadata": {
        "id": "wtVEcrZmt43c",
        "colab_type": "code",
        "colab": {
          "base_uri": "https://localhost:8080/",
          "height": 179
        },
        "outputId": "e91ec062-8b28-4cf2-eec9-65ac9af2135b"
      },
      "source": [
        "## 수찾기 https://www.acmicpc.net/problem/1920\n",
        "\n",
        "n = int(input())\n",
        "w = set(map(int,input().split(' ')))\n",
        "m = int(input())\n",
        "h = list(map(int,input().split(' ')))\n",
        "\n",
        "for i in h:\n",
        "  if i in w:\n",
        "    print(\"1\")\n",
        "  else:\n",
        "    print(\"0\")\n"
      ],
      "execution_count": null,
      "outputs": [
        {
          "output_type": "stream",
          "text": [
            "5\n",
            "4 1 5 2 3\n",
            "5\n",
            "1 3 7 9 5\n",
            "1\n",
            "1\n",
            "0\n",
            "0\n",
            "1\n"
          ],
          "name": "stdout"
        }
      ]
    },
    {
      "cell_type": "code",
      "metadata": {
        "id": "Aft2Gsf0H_DC",
        "colab_type": "code",
        "colab": {
          "base_uri": "https://localhost:8080/",
          "height": 125
        },
        "outputId": "94643487-1717-4ca0-e04e-17fe671e4c87"
      },
      "source": [
        "## 소수 구하기 https://www.acmicpc.net/problem/1929 시간초과\n",
        "\n",
        "\n",
        "def isPrime(a):\n",
        "  if a==1: return False\n",
        "  for i in range(2,a+1):\n",
        "    if a % i == 0:\n",
        "      return False\n",
        "  return True\n",
        "m, n = map(int,input().split(' '))\n",
        "\n",
        "\n",
        "for i in range(m,n+1):\n",
        "  if(isPrime(i)):\n",
        "    print(i)"
      ],
      "execution_count": null,
      "outputs": [
        {
          "output_type": "stream",
          "text": [
            "3 16\n",
            "3\n",
            "5\n",
            "7\n",
            "11\n",
            "13\n"
          ],
          "name": "stdout"
        }
      ]
    },
    {
      "cell_type": "code",
      "metadata": {
        "id": "PM8ep77gVg7o",
        "colab_type": "code",
        "colab": {
          "base_uri": "https://localhost:8080/",
          "height": 197
        },
        "outputId": "0f41bb3b-eb08-44d9-b613-047158ef9c14"
      },
      "source": [
        "## 프린터 큐 https://www.acmicpc.net/problem/1966\n",
        "\n",
        "n = int(input())\n",
        "for _ in range(n):\n",
        "  a,b = list(map(int,input().split(' '))) # 문서의 수, 몇번째로 인쇄되는지 궁금한문서 인덱스\n",
        "  m = list(map(int,input().split(' '))) #문서의 중요도\n",
        "  idx = list(range(len(m)))\n",
        "  idx[b] = 'target'\n",
        "  order = 0\n",
        "  while True:\n",
        "    if m[0] == max(m):\n",
        "      order += 1\n",
        "      if idx[0] == 'target':\n",
        "        print(order)\n",
        "        break\n",
        "      else:\n",
        "        idx.pop(0)\n",
        "        m.pop(0)\n",
        "    else:\n",
        "      idx.append(idx.pop(0))\n",
        "      m.append(m.pop(0))\n",
        "  "
      ],
      "execution_count": null,
      "outputs": [
        {
          "output_type": "stream",
          "text": [
            "3\n",
            "1 0\n",
            "5\n",
            "1\n",
            "4 2\n",
            "1 2 3 4\n",
            "2\n",
            "6 0\n",
            "1 1 9 1 1 1\n",
            "5\n"
          ],
          "name": "stdout"
        }
      ]
    },
    {
      "cell_type": "code",
      "metadata": {
        "id": "Wv10z3M6ten0",
        "colab_type": "code",
        "colab": {
          "base_uri": "https://localhost:8080/",
          "height": 388
        },
        "outputId": "6c3ea36c-3219-4556-cc36-cf5d452a0541"
      },
      "source": [
        "test_cases = int(input())\n",
        "\n",
        "for _ in range(test_cases):\n",
        "    n,m = list(map(int, input().split( )))\n",
        "    imp = list(map(int, input().split( )))\n",
        "    idx = list(range(len(imp)))\n",
        "    idx[m] = 'target'\n",
        "\n",
        "    # 순서\n",
        "    order = 0\n",
        "    \n",
        "    while True:\n",
        "        # 첫번째 if: imp의 첫번째 값 = 최댓값?\n",
        "        if imp[0]==max(imp):\n",
        "            order += 1\n",
        "                        \n",
        "            # 두번째 if: idx의 첫 번째 값 = \"target\"?\n",
        "            if idx[0]=='target':\n",
        "                print(order)\n",
        "                break\n",
        "            else:\n",
        "                imp.pop(0)\n",
        "                idx.pop(0)\n",
        "\n",
        "        else:\n",
        "            imp.append(imp.pop(0))\n",
        "            idx.append(idx.pop(0))  "
      ],
      "execution_count": null,
      "outputs": [
        {
          "output_type": "stream",
          "text": [
            "3\n",
            "1 0\n",
            "5\n",
            "1\n",
            "4 2\n",
            "1 2 3 4\n",
            "2\n",
            "6\n"
          ],
          "name": "stdout"
        },
        {
          "output_type": "error",
          "ename": "ValueError",
          "evalue": "ignored",
          "traceback": [
            "\u001b[0;31m---------------------------------------------------------------------------\u001b[0m",
            "\u001b[0;31mValueError\u001b[0m                                Traceback (most recent call last)",
            "\u001b[0;32m<ipython-input-11-5cd257e22d8c>\u001b[0m in \u001b[0;36m<module>\u001b[0;34m()\u001b[0m\n\u001b[1;32m      2\u001b[0m \u001b[0;34m\u001b[0m\u001b[0m\n\u001b[1;32m      3\u001b[0m \u001b[0;32mfor\u001b[0m \u001b[0m_\u001b[0m \u001b[0;32min\u001b[0m \u001b[0mrange\u001b[0m\u001b[0;34m(\u001b[0m\u001b[0mtest_cases\u001b[0m\u001b[0;34m)\u001b[0m\u001b[0;34m:\u001b[0m\u001b[0;34m\u001b[0m\u001b[0;34m\u001b[0m\u001b[0m\n\u001b[0;32m----> 4\u001b[0;31m     \u001b[0mn\u001b[0m\u001b[0;34m,\u001b[0m\u001b[0mm\u001b[0m \u001b[0;34m=\u001b[0m \u001b[0mlist\u001b[0m\u001b[0;34m(\u001b[0m\u001b[0mmap\u001b[0m\u001b[0;34m(\u001b[0m\u001b[0mint\u001b[0m\u001b[0;34m,\u001b[0m \u001b[0minput\u001b[0m\u001b[0;34m(\u001b[0m\u001b[0;34m)\u001b[0m\u001b[0;34m.\u001b[0m\u001b[0msplit\u001b[0m\u001b[0;34m(\u001b[0m \u001b[0;34m)\u001b[0m\u001b[0;34m)\u001b[0m\u001b[0;34m)\u001b[0m\u001b[0;34m\u001b[0m\u001b[0;34m\u001b[0m\u001b[0m\n\u001b[0m\u001b[1;32m      5\u001b[0m     \u001b[0mimp\u001b[0m \u001b[0;34m=\u001b[0m \u001b[0mlist\u001b[0m\u001b[0;34m(\u001b[0m\u001b[0mmap\u001b[0m\u001b[0;34m(\u001b[0m\u001b[0mint\u001b[0m\u001b[0;34m,\u001b[0m \u001b[0minput\u001b[0m\u001b[0;34m(\u001b[0m\u001b[0;34m)\u001b[0m\u001b[0;34m.\u001b[0m\u001b[0msplit\u001b[0m\u001b[0;34m(\u001b[0m \u001b[0;34m)\u001b[0m\u001b[0;34m)\u001b[0m\u001b[0;34m)\u001b[0m\u001b[0;34m\u001b[0m\u001b[0;34m\u001b[0m\u001b[0m\n\u001b[1;32m      6\u001b[0m     \u001b[0midx\u001b[0m \u001b[0;34m=\u001b[0m \u001b[0mlist\u001b[0m\u001b[0;34m(\u001b[0m\u001b[0mrange\u001b[0m\u001b[0;34m(\u001b[0m\u001b[0mlen\u001b[0m\u001b[0;34m(\u001b[0m\u001b[0mimp\u001b[0m\u001b[0;34m)\u001b[0m\u001b[0;34m)\u001b[0m\u001b[0;34m)\u001b[0m\u001b[0;34m\u001b[0m\u001b[0;34m\u001b[0m\u001b[0m\n",
            "\u001b[0;31mValueError\u001b[0m: not enough values to unpack (expected 2, got 1)"
          ]
        }
      ]
    },
    {
      "cell_type": "code",
      "metadata": {
        "id": "fp_uXo5g6YLN",
        "colab_type": "code",
        "colab": {
          "base_uri": "https://localhost:8080/",
          "height": 71
        },
        "outputId": "82d30797-2b4a-4fde-bf76-ec8dd638dabb"
      },
      "source": [
        "## 소수 찾기 https://www.acmicpc.net/problem/1978\n",
        "\n",
        "n = int(input())\n",
        "num = list(map(int,input().split(' ')))\n",
        "count = 0\n",
        "if n == len(num):\n",
        "  for i in range(len(num)):\n",
        "    for j in range(2,num[i]+1):\n",
        "      if num[i] == 1:\n",
        "        continue\n",
        "      elif num[i] % j == 0:\n",
        "        if num[i] == j:\n",
        "          count +=1\n",
        "        else:\n",
        "          break\n",
        "          \n",
        "print(count)      "
      ],
      "execution_count": 6,
      "outputs": [
        {
          "output_type": "stream",
          "text": [
            "4\n",
            "1 3 5 7\n",
            "3\n"
          ],
          "name": "stdout"
        }
      ]
    },
    {
      "cell_type": "code",
      "metadata": {
        "id": "oxbEDsXEFxLZ",
        "colab_type": "code",
        "colab": {}
      },
      "source": [
        ""
      ],
      "execution_count": null,
      "outputs": []
    }
  ]
}