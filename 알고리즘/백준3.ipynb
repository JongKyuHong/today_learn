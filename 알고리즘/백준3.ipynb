{
  "nbformat": 4,
  "nbformat_minor": 0,
  "metadata": {
    "colab": {
      "name": "백준3.ipynb",
      "provenance": [],
      "collapsed_sections": []
    },
    "kernelspec": {
      "name": "python3",
      "display_name": "Python 3"
    }
  },
  "cells": [
    {
      "cell_type": "code",
      "metadata": {
        "id": "xVMUqMXdIC_E",
        "colab_type": "code",
        "colab": {
          "base_uri": "https://localhost:8080/",
          "height": 280
        },
        "outputId": "e9224aab-0523-40a6-a338-4ecdc633ee8b"
      },
      "source": [
        "testcase = int(input())\n",
        "\n",
        "result = []\n",
        "for _ in range(testcase):\n",
        "  n,m = list(map(int,input().split(' ')))\n",
        "  im = list(map(int,input().split(' ')))\n",
        "  \n",
        "\n",
        "  result.append(im[m])\n",
        "print('\\n'.join(result))"
      ],
      "execution_count": null,
      "outputs": [
        {
          "output_type": "stream",
          "text": [
            "1\n",
            "1 0\n",
            "5\n",
            "5\n"
          ],
          "name": "stdout"
        },
        {
          "output_type": "error",
          "ename": "TypeError",
          "evalue": "ignored",
          "traceback": [
            "\u001b[0;31m---------------------------------------------------------------------------\u001b[0m",
            "\u001b[0;31mTypeError\u001b[0m                                 Traceback (most recent call last)",
            "\u001b[0;32m<ipython-input-7-855c6b2ab035>\u001b[0m in \u001b[0;36m<module>\u001b[0;34m()\u001b[0m\n\u001b[1;32m      7\u001b[0m   \u001b[0mprint\u001b[0m\u001b[0;34m(\u001b[0m\u001b[0mim\u001b[0m\u001b[0;34m[\u001b[0m\u001b[0mm\u001b[0m\u001b[0;34m]\u001b[0m\u001b[0;34m)\u001b[0m\u001b[0;34m\u001b[0m\u001b[0;34m\u001b[0m\u001b[0m\n\u001b[1;32m      8\u001b[0m   \u001b[0mresult\u001b[0m\u001b[0;34m.\u001b[0m\u001b[0mappend\u001b[0m\u001b[0;34m(\u001b[0m\u001b[0mim\u001b[0m\u001b[0;34m[\u001b[0m\u001b[0mm\u001b[0m\u001b[0;34m]\u001b[0m\u001b[0;34m)\u001b[0m\u001b[0;34m\u001b[0m\u001b[0;34m\u001b[0m\u001b[0m\n\u001b[0;32m----> 9\u001b[0;31m \u001b[0mprint\u001b[0m\u001b[0;34m(\u001b[0m\u001b[0;34m'\\n'\u001b[0m\u001b[0;34m.\u001b[0m\u001b[0mjoin\u001b[0m\u001b[0;34m(\u001b[0m\u001b[0mresult\u001b[0m\u001b[0;34m)\u001b[0m\u001b[0;34m)\u001b[0m\u001b[0;34m\u001b[0m\u001b[0;34m\u001b[0m\u001b[0m\n\u001b[0m",
            "\u001b[0;31mTypeError\u001b[0m: sequence item 0: expected str instance, int found"
          ]
        }
      ]
    },
    {
      "cell_type": "code",
      "metadata": {
        "id": "ZTN-2gp5YDoK",
        "colab_type": "code",
        "colab": {
          "base_uri": "https://localhost:8080/",
          "height": 197
        },
        "outputId": "13cd1490-8ae9-453e-90cc-25763f7a9633"
      },
      "source": [
        "### 음계\n",
        "\n",
        "a = list(map(int,input().split(' ')))\n",
        "\n",
        "asc = True\n",
        "des = True\n",
        "print(len(a))\n",
        "for i in range(1,8):\n",
        "  print(a[i])\n",
        "  if a[i] > a[i-1]:\n",
        "    des = False\n",
        "  elif a[i] < a[i-1]:\n",
        "    asc = False\n",
        " \n",
        "if asc:\n",
        "  print(\"ascending\")\n",
        "elif des:\n",
        "  print(\"descending\")\n",
        "else:\n",
        "  print(\"mixed\")"
      ],
      "execution_count": null,
      "outputs": [
        {
          "output_type": "stream",
          "text": [
            "1 2 3 4 5 6 7 8\n",
            "8\n",
            "2\n",
            "3\n",
            "4\n",
            "5\n",
            "6\n",
            "7\n",
            "8\n",
            "ascending\n"
          ],
          "name": "stdout"
        }
      ]
    },
    {
      "cell_type": "code",
      "metadata": {
        "id": "JTKSPqRmvkL9",
        "colab_type": "code",
        "colab": {
          "base_uri": "https://localhost:8080/",
          "height": 71
        },
        "outputId": "28032424-d506-4d7e-eb7a-c9fc5472696f"
      },
      "source": [
        "### 블랙잭\n",
        "\n",
        "n ,m = list(map(int, input().split(' ')))\n",
        "card = list(map(int, input().split(' ')))\n",
        "sum = 0\n",
        "result = 0\n",
        "for i in range(n):\n",
        "  for j in range(i+1,n):\n",
        "    for k in range(j+1,n):\n",
        "      sum = card[i] + card[j] + card[k]\n",
        "      if m >= sum:\n",
        "        if result < sum:\n",
        "          result = sum\n",
        "\n",
        "print(result)\n"
      ],
      "execution_count": null,
      "outputs": [
        {
          "output_type": "stream",
          "text": [
            "10 500\n",
            "93 181 245 214 315 36 185 138 216 295\n",
            "497\n"
          ],
          "name": "stdout"
        }
      ]
    },
    {
      "cell_type": "code",
      "metadata": {
        "id": "BnsDCBIxwwzV",
        "colab_type": "code",
        "colab": {
          "base_uri": "https://localhost:8080/",
          "height": 143
        },
        "outputId": "f801f7e4-bed3-4f48-dbe6-8e158a0446f0"
      },
      "source": [
        "### 스택\n",
        "\n",
        "n = int(input())\n",
        "num = 1\n",
        "stack = []\n",
        "st = []\n",
        "result = []\n",
        "a = True\n",
        "for _ in range(1,n+1):\n",
        "  card = int(input())\n",
        "  while num <= card:\n",
        "    stack.append(num)\n",
        "    num +=1\n",
        "    st.append(\"+\")\n",
        "  if stack[-1] == card:\n",
        "    result.append(stack.pop())\n",
        "    st.append(\"-\")\n",
        "  else:\n",
        "    a = False\n",
        "\n",
        "if a:\n",
        "  print(\"\\n\".join(st))\n",
        "else:\n",
        "  print(\"NO\")"
      ],
      "execution_count": null,
      "outputs": [
        {
          "output_type": "stream",
          "text": [
            "5\n",
            "1\n",
            "2\n",
            "5\n",
            "3\n",
            "4\n",
            "NO\n"
          ],
          "name": "stdout"
        }
      ]
    },
    {
      "cell_type": "code",
      "metadata": {
        "id": "YQo-DiMcsgmt",
        "colab_type": "code",
        "colab": {
          "base_uri": "https://localhost:8080/",
          "height": 53
        },
        "outputId": "bf2f0123-78ae-4ce6-b0b1-a1ddc23ab54e"
      },
      "source": [
        "queue = list(map(int,input().split(' ')))\n",
        "queue = [(i, idx) for idx, i in enumerate(queue)]\n",
        "a = max(queue,key=lambda x: x[0])[0]\n",
        "print(a)"
      ],
      "execution_count": null,
      "outputs": [
        {
          "output_type": "stream",
          "text": [
            "1 2 3 4 5 6 9 8\n",
            "9\n"
          ],
          "name": "stdout"
        }
      ]
    },
    {
      "cell_type": "code",
      "metadata": {
        "id": "RwsT9xHv9xF6",
        "colab_type": "code",
        "colab": {}
      },
      "source": [
        "### 큐\n",
        "\n",
        "testcase = int(input())\n",
        "\n",
        "for _ in range(len(testcase)):\n",
        "  n,m = list(map(int,input().split(' ')))\n",
        "  data = list(map(int,input().split(' '))) #입력한 중요도\n",
        "  data = [(idx,i)for (i,idx) in range(data)]\n",
        "  count = 0\n",
        "  while True:\n",
        "    data[0][0] = max(data,lambda x:x[0])[0]\n",
        "    \n",
        "    "
      ],
      "execution_count": null,
      "outputs": []
    },
    {
      "cell_type": "code",
      "metadata": {
        "id": "MZWmHfofCWWM",
        "colab_type": "code",
        "colab": {
          "base_uri": "https://localhost:8080/",
          "height": 107
        },
        "outputId": "a031ec56-eb30-439a-eca2-9230b44e26a7"
      },
      "source": [
        "### 키로거\n",
        "\n",
        "testcase = int(input())\n",
        "\n",
        "\n",
        "for _ in range(testcase):\n",
        "  L = input()\n",
        "  left = []\n",
        "  right = []\n",
        "  for i in L:\n",
        "    if i == '-':\n",
        "      if left:\n",
        "        left.pop()\n",
        "    elif i == '<':\n",
        "      if left:\n",
        "        right.append(left.pop())\n",
        "    elif i == '>':\n",
        "      if right:\n",
        "        left.append(right.pop())\n",
        "    else:\n",
        "      left.append(i)\n",
        "\n",
        "  left.extend(reversed(right))\n",
        "  print(''.join(left))\n"
      ],
      "execution_count": null,
      "outputs": [
        {
          "output_type": "stream",
          "text": [
            "2\n",
            "<<BP<A>>Cd-\n",
            "BAPC\n",
            "ThIsIsS3Cr3t\n",
            "ThIsIsS3Cr3t\n"
          ],
          "name": "stdout"
        }
      ]
    },
    {
      "cell_type": "code",
      "metadata": {
        "id": "t2GrhepxUXXk",
        "colab_type": "code",
        "colab": {
          "base_uri": "https://localhost:8080/",
          "height": 53
        },
        "outputId": "9c77c7ad-7d05-4fb1-8834-53f0f81c77fb"
      },
      "source": [
        "### SHA-256\n",
        "\n",
        "import hashlib\n",
        "\n",
        "S = input()\n",
        "\n",
        "result = hashlib.sha256(S.encode())\n",
        "print(result.hexdigest())"
      ],
      "execution_count": null,
      "outputs": [
        {
          "output_type": "stream",
          "text": [
            "Baekjoon\n",
            "9944e1862efbb2a4e2486392dc6701896416b251eccdecb8332deb7f4cf2a857\n"
          ],
          "name": "stdout"
        }
      ]
    },
    {
      "cell_type": "code",
      "metadata": {
        "id": "JXXmRg-LcQzk",
        "colab_type": "code",
        "colab": {
          "base_uri": "https://localhost:8080/",
          "height": 179
        },
        "outputId": "414e3a35-f258-466b-d0b6-619961ad6967"
      },
      "source": [
        "#### 수찾기+\n",
        "\n",
        "\n",
        "N = int(input())\n",
        "array = set(map(int,input().split(\" \")))\n",
        "M = int(input())\n",
        "an = list(map(int,input().split(' ')))\n",
        "\n",
        "for i in an:\n",
        "  if i in array:\n",
        "    print(\"1\")\n",
        "  else:\n",
        "    print(\"0\")"
      ],
      "execution_count": null,
      "outputs": [
        {
          "output_type": "stream",
          "text": [
            "5\n",
            "4 1 5 2 3\n",
            "5\n",
            "1 3 7 9 5\n",
            "1\n",
            "1\n",
            "0\n",
            "0\n",
            "1\n"
          ],
          "name": "stdout"
        }
      ]
    },
    {
      "cell_type": "code",
      "metadata": {
        "id": "0REfUI1sfyCy",
        "colab_type": "code",
        "colab": {}
      },
      "source": [
        "### 친구 네트워크\n",
        "### 문제를 이해 못하겠음\n",
        "\n",
        "testcase = int(input())\n",
        "fre2 = []\n",
        "for _ in testcase:\n",
        "  F = int(input())\n",
        "  for _ in F:\n",
        "    fre = input()\n",
        "    fre2.append(fre)\n"
      ],
      "execution_count": null,
      "outputs": []
    },
    {
      "cell_type": "code",
      "metadata": {
        "id": "rqZ1uhgllVIx",
        "colab_type": "code",
        "colab": {
          "base_uri": "https://localhost:8080/",
          "height": 215
        },
        "outputId": "49b01ba2-3e54-4ecd-9718-7ef25e8ef8f3"
      },
      "source": [
        "### 수 정렬하기\n",
        "\n",
        "n = int(input())\n",
        "\n",
        "fre = []\n",
        "for _ in range(n):\n",
        "  fre.append(int(input()))\n",
        "fre.sort()\n",
        "\n",
        "for x in fre:\n",
        "  print(x)"
      ],
      "execution_count": null,
      "outputs": [
        {
          "output_type": "stream",
          "text": [
            "5\n",
            "1\n",
            "4\n",
            "6\n",
            "5\n",
            "3\n",
            "1\n",
            "3\n",
            "4\n",
            "5\n",
            "6\n"
          ],
          "name": "stdout"
        }
      ]
    },
    {
      "cell_type": "code",
      "metadata": {
        "id": "AhHe3ZDCltDp",
        "colab_type": "code",
        "colab": {
          "base_uri": "https://localhost:8080/",
          "height": 53
        },
        "outputId": "82adc747-943c-4f11-cab8-743f8b933b42"
      },
      "source": [
        "### 소트 인사이드\n",
        "\n",
        "a = list(map(int,input()))\n",
        "fre=[]\n",
        "for x in a:\n",
        "  fre.append(x)\n",
        "fre.sort(reverse=True)\n",
        "for i in fre:\n",
        "  print(i,end='')"
      ],
      "execution_count": null,
      "outputs": [
        {
          "output_type": "stream",
          "text": [
            "2143\n",
            "4321"
          ],
          "name": "stdout"
        }
      ]
    },
    {
      "cell_type": "code",
      "metadata": {
        "id": "a5EA6bUnrSNT",
        "colab_type": "code",
        "colab": {}
      },
      "source": [
        "n,m = list(map(int,input().split(' ')))\n",
        "  data = list(map(int,input().split(' '))) #입력한 중요도\n",
        "  data = [(idx,i)for (i,idx) in range(data)]\n",
        "  count = 0"
      ],
      "execution_count": null,
      "outputs": []
    },
    {
      "cell_type": "code",
      "metadata": {
        "id": "gwHIXDoJnmnx",
        "colab_type": "code",
        "colab": {
          "base_uri": "https://localhost:8080/",
          "height": 143
        },
        "outputId": "cc1cf13b-b31e-4172-a95a-dcdc3b483301"
      },
      "source": [
        "### 나이순 정렬\n",
        "\n",
        "n = int(input())\n",
        "array = []\n",
        "for _ in range(n):\n",
        "  data = input().split(' ')\n",
        "  array.append([int(data[0]),data[1]])\n",
        "array = sorted(array, key = lambda x: x[0])\n",
        "for i in array:\n",
        "  print(i[0],i[1])"
      ],
      "execution_count": null,
      "outputs": [
        {
          "output_type": "stream",
          "text": [
            "3\n",
            "21 abc\n",
            "21 bcd\n",
            "20 aaa\n",
            "20 aaa\n",
            "21 abc\n",
            "21 bcd\n"
          ],
          "name": "stdout"
        }
      ]
    },
    {
      "cell_type": "code",
      "metadata": {
        "id": "vKwp1tg4qpEa",
        "colab_type": "code",
        "colab": {
          "base_uri": "https://localhost:8080/",
          "height": 215
        },
        "outputId": "78c41fb7-8bc6-4e90-e9aa-bf209e438779"
      },
      "source": [
        "### 좌표 정렬하기\n",
        "\n",
        "n = int(input())\n",
        "array = []\n",
        "for _ in range(n):\n",
        "  data = input().split(' ')\n",
        "  array.append([int(data[0]),int(data[1])])\n",
        "array = sorted(array)\n",
        "for i in array:\n",
        "  print(i[0],i[1])"
      ],
      "execution_count": null,
      "outputs": [
        {
          "output_type": "stream",
          "text": [
            "5\n",
            "3 4\n",
            "1 1\n",
            "1 -1\n",
            "2 2\n",
            "3 3\n",
            "1 -1\n",
            "1 1\n",
            "2 2\n",
            "3 3\n",
            "3 4\n"
          ],
          "name": "stdout"
        }
      ]
    },
    {
      "cell_type": "code",
      "metadata": {
        "id": "_BaIgsCqF_6f",
        "colab_type": "code",
        "colab": {
          "base_uri": "https://localhost:8080/",
          "height": 413
        },
        "outputId": "d4f02e5f-7246-4567-e0dc-741e349d2d3d"
      },
      "source": [
        "### 수정렬하기3 (메모리 오류)\n",
        "\n",
        "n = int(input())\n",
        "array = []\n",
        "for _ in range(n):\n",
        "  a = int(input())\n",
        "  array.append(a)\n",
        "array = sorted(array)\n",
        "print()\n",
        "for i in array:\n",
        "  print(i)  "
      ],
      "execution_count": null,
      "outputs": [
        {
          "output_type": "stream",
          "text": [
            "10\n",
            "5\n",
            "2\n",
            "3\n",
            "1\n",
            "4\n",
            "2\n",
            "3\n",
            "5\n",
            "1\n",
            "7\n",
            "\n",
            "1\n",
            "1\n",
            "2\n",
            "2\n",
            "3\n",
            "3\n",
            "4\n",
            "5\n",
            "5\n",
            "7\n"
          ],
          "name": "stdout"
        }
      ]
    },
    {
      "cell_type": "code",
      "metadata": {
        "id": "kIIi0guULWLe",
        "colab_type": "code",
        "colab": {
          "base_uri": "https://localhost:8080/",
          "height": 244
        },
        "outputId": "3ae448e0-9143-4ab0-f097-299b61bf0dc4"
      },
      "source": [
        "#### 수 정렬하기 3\n",
        "import sys\n",
        "\n",
        "n = int(sys.stdin.readline())\n",
        "array = [0] * 10001\n",
        "\n",
        "for i in range(n):\n",
        "    data = int(sys.stdin.readline())\n",
        "    array[data] += 1\n",
        "\n",
        "for i in range(10001):\n",
        "    if array[i] != 0:\n",
        "        for j in range(array[i]):\n",
        "            print(i)"
      ],
      "execution_count": null,
      "outputs": [
        {
          "output_type": "error",
          "ename": "ValueError",
          "evalue": "ignored",
          "traceback": [
            "\u001b[0;31m---------------------------------------------------------------------------\u001b[0m",
            "\u001b[0;31mValueError\u001b[0m                                Traceback (most recent call last)",
            "\u001b[0;32m<ipython-input-11-89677cae0d31>\u001b[0m in \u001b[0;36m<module>\u001b[0;34m()\u001b[0m\n\u001b[1;32m      1\u001b[0m \u001b[0;32mimport\u001b[0m \u001b[0msys\u001b[0m\u001b[0;34m\u001b[0m\u001b[0;34m\u001b[0m\u001b[0m\n\u001b[1;32m      2\u001b[0m \u001b[0;34m\u001b[0m\u001b[0m\n\u001b[0;32m----> 3\u001b[0;31m \u001b[0mn\u001b[0m \u001b[0;34m=\u001b[0m \u001b[0mint\u001b[0m\u001b[0;34m(\u001b[0m\u001b[0msys\u001b[0m\u001b[0;34m.\u001b[0m\u001b[0mstdin\u001b[0m\u001b[0;34m.\u001b[0m\u001b[0mreadline\u001b[0m\u001b[0;34m(\u001b[0m\u001b[0;34m)\u001b[0m\u001b[0;34m)\u001b[0m\u001b[0;34m\u001b[0m\u001b[0;34m\u001b[0m\u001b[0m\n\u001b[0m\u001b[1;32m      4\u001b[0m \u001b[0marray\u001b[0m \u001b[0;34m=\u001b[0m \u001b[0;34m[\u001b[0m\u001b[0;36m0\u001b[0m\u001b[0;34m]\u001b[0m \u001b[0;34m*\u001b[0m \u001b[0;36m10001\u001b[0m\u001b[0;34m\u001b[0m\u001b[0;34m\u001b[0m\u001b[0m\n\u001b[1;32m      5\u001b[0m \u001b[0;34m\u001b[0m\u001b[0m\n",
            "\u001b[0;31mValueError\u001b[0m: invalid literal for int() with base 10: ''"
          ]
        }
      ]
    },
    {
      "cell_type": "code",
      "metadata": {
        "id": "ldXSaJSONR0Y",
        "colab_type": "code",
        "colab": {
          "base_uri": "https://localhost:8080/",
          "height": 53
        },
        "outputId": "bda583a9-de39-4297-a2ff-6fd0a3a4aba2"
      },
      "source": [
        "### 피보나치수열 (정답)\n",
        "\n",
        "n = int(input())\n",
        "\n",
        "array = []\n",
        "array.append(0)\n",
        "array.append(1)\n",
        "\n",
        "sum = 0\n",
        "for i in range(n+1):\n",
        "  if i > 1:\n",
        "    hap = array[i-2] + array[i-1]\n",
        "    array.append(hap)\n",
        "\n",
        "print(max(array)) "
      ],
      "execution_count": null,
      "outputs": [
        {
          "output_type": "stream",
          "text": [
            "10\n",
            "55\n"
          ],
          "name": "stdout"
        }
      ]
    },
    {
      "cell_type": "code",
      "metadata": {
        "id": "KMIf2-j8YHES",
        "colab_type": "code",
        "colab": {
          "base_uri": "https://localhost:8080/",
          "height": 107
        },
        "outputId": "b1d085c2-d1e7-476a-e6dc-55452f18775e"
      },
      "source": [
        "data = list(map(int,input().split(' ')))\n",
        "a = data[0]\n",
        "sum = 2**a\n",
        "for i in data: \n",
        "  print(i)\n"
      ],
      "execution_count": null,
      "outputs": [
        {
          "output_type": "stream",
          "text": [
            "2 3 1\n",
            "2\n",
            "3\n",
            "1\n",
            "4\n"
          ],
          "name": "stdout"
        }
      ]
    },
    {
      "cell_type": "code",
      "metadata": {
        "id": "LjvzdjJ6xs8U",
        "colab_type": "code",
        "colab": {
          "base_uri": "https://localhost:8080/",
          "height": 53
        },
        "outputId": "f464f4c3-f3de-4b0c-c7c8-c50e42aca58b"
      },
      "source": [
        "a,b,c = map(int,input().split(' '))\n",
        "\n",
        "result = 0\n",
        "count = 0\n",
        "while a>=result:\n",
        "  a = a + b\n",
        "  result = result + c\n",
        "  count = count + 1\n",
        "print(count)\n"
      ],
      "execution_count": null,
      "outputs": [
        {
          "output_type": "stream",
          "text": [
            "2000 50 200\n",
            "14\n"
          ],
          "name": "stdout"
        }
      ]
    },
    {
      "cell_type": "code",
      "metadata": {
        "id": "VV2YIQ-marOI",
        "colab_type": "code",
        "colab": {
          "base_uri": "https://localhost:8080/",
          "height": 53
        },
        "outputId": "0e3051b1-4de1-423f-f9e6-2b240efcf313"
      },
      "source": [
        "import math\n",
        "a,b,c = list(map(int,input().split(' ')))\n",
        "\n",
        "def l(a,b,c):\n",
        "  if c>b:\n",
        "    print(math.trunc(a/(c-b))+1)\n",
        "#l = lambda a, b, c : print(math.trunc(a/(c-b))+1)\n",
        "l(a,b,c)"
      ],
      "execution_count": null,
      "outputs": [
        {
          "output_type": "stream",
          "text": [
            "2000 50 200\n",
            "14\n"
          ],
          "name": "stdout"
        }
      ]
    },
    {
      "cell_type": "code",
      "metadata": {
        "id": "rUn6uJUUasy8",
        "colab_type": "code",
        "colab": {
          "base_uri": "https://localhost:8080/",
          "height": 53
        },
        "outputId": "33baefed-16b0-424d-b48e-229377787bc3"
      },
      "source": [
        "## https://www.acmicpc.net/problem/1712 손익분기점\n",
        "\n",
        "import math\n",
        "a,b,c = list(map(int,input().split(' ')))\n",
        "\n",
        "l = lambda a, b, c : print(math.trunc(a/(c-b))+1) if (c>b) else print(-1)\n",
        "l(a,b,c)"
      ],
      "execution_count": null,
      "outputs": [
        {
          "output_type": "stream",
          "text": [
            "1000 70 170\n",
            "11\n"
          ],
          "name": "stdout"
        }
      ]
    },
    {
      "cell_type": "code",
      "metadata": {
        "id": "LrQximIxaAYZ",
        "colab_type": "code",
        "colab": {}
      },
      "source": [
        "### 손익분기점 2트하려다 현타가 와서 \n",
        "### https://solved.ac/class 클래스 1부터 차근차근 해보기\n"
      ],
      "execution_count": null,
      "outputs": []
    },
    {
      "cell_type": "code",
      "metadata": {
        "id": "38Frv3a7c7OG",
        "colab_type": "code",
        "colab": {}
      },
      "source": [
        "## https://www.acmicpc.net/step/8 2번문제부터 풀기"
      ],
      "execution_count": null,
      "outputs": []
    },
    {
      "cell_type": "code",
      "metadata": {
        "id": "Aau9_l5kHIhy",
        "colab_type": "code",
        "colab": {
          "base_uri": "https://localhost:8080/",
          "height": 53
        },
        "outputId": "79153020-da6b-49d8-c44b-1aff4bdb3a0c"
      },
      "source": [
        "## 설탕배달 (틀림)\n",
        "\n",
        "\n"
      ],
      "execution_count": null,
      "outputs": [
        {
          "output_type": "stream",
          "text": [
            "23\n",
            "5\n"
          ],
          "name": "stdout"
        }
      ]
    },
    {
      "cell_type": "code",
      "metadata": {
        "id": "yK15zbq_HIbr",
        "colab_type": "code",
        "colab": {
          "base_uri": "https://localhost:8080/",
          "height": 125
        },
        "outputId": "8817b276-cd5f-40df-e2cb-372f9637ec66"
      },
      "source": [
        "## n찍기\n",
        "n = int(input())\n",
        "\n",
        "for i in range(1,n+1):\n",
        "  print(i)"
      ],
      "execution_count": null,
      "outputs": [
        {
          "output_type": "stream",
          "text": [
            "5\n",
            "1\n",
            "2\n",
            "3\n",
            "4\n",
            "5\n"
          ],
          "name": "stdout"
        }
      ]
    },
    {
      "cell_type": "code",
      "metadata": {
        "id": "m60hiaKPbk7Y",
        "colab_type": "code",
        "colab": {
          "base_uri": "https://localhost:8080/",
          "height": 125
        },
        "outputId": "57e5c8f0-2ec5-4b1e-d1c6-e2b06744c987"
      },
      "source": [
        "|## 기찍n\n",
        "n = int(input())\n",
        "\n",
        "for i in range(n,0,-1):\n",
        "  print(i)"
      ],
      "execution_count": null,
      "outputs": [
        {
          "output_type": "stream",
          "text": [
            "5\n",
            "5\n",
            "4\n",
            "3\n",
            "2\n",
            "1\n"
          ],
          "name": "stdout"
        }
      ]
    },
    {
      "cell_type": "code",
      "metadata": {
        "id": "8_D2qoH3cn-f",
        "colab_type": "code",
        "colab": {
          "base_uri": "https://localhost:8080/",
          "height": 53
        },
        "outputId": "0fc5ffdd-b946-40b6-daae-ab55859981b0"
      },
      "source": [
        "## 윤년 https://www.acmicpc.net/problem/2753\n",
        "n = int(input())\n",
        "\n",
        "if ((n%4==0) & ((n%100!=0) | (n%400==0))):\n",
        "  print(\"1\")\n",
        "else:\n",
        "  print(\"0\")"
      ],
      "execution_count": null,
      "outputs": [
        {
          "output_type": "stream",
          "text": [
            "1999\n",
            "0\n"
          ],
          "name": "stdout"
        }
      ]
    },
    {
      "cell_type": "code",
      "metadata": {
        "id": "nwTwr09Jc91h",
        "colab_type": "code",
        "colab": {
          "base_uri": "https://localhost:8080/",
          "height": 53
        },
        "outputId": "e4441da9-d30a-4dbf-9a16-f58be5a2b834"
      },
      "source": [
        "## 알람시계 https://www.acmicpc.net/problem/2884\n",
        "h,m = list(map(int,input().split(' ')))\n",
        "\n",
        "if m>=45:\n",
        "  m = m-45\n",
        "  print(h,end=' ')\n",
        "  print(m)\n",
        "elif m<45:\n",
        "  if h == 0:\n",
        "    h = h+23\n",
        "    m = m+15\n",
        "    print(h,end=' ')\n",
        "    print(m)\n",
        "  else:\n",
        "    m = m+15\n",
        "    h = h-1\n",
        "    print(h,end=' ')\n",
        "    print(m)\n"
      ],
      "execution_count": null,
      "outputs": [
        {
          "output_type": "stream",
          "text": [
            "0 30\n",
            "23 45\n"
          ],
          "name": "stdout"
        }
      ]
    },
    {
      "cell_type": "code",
      "metadata": {
        "id": "oSovxa5GeUNo",
        "colab_type": "code",
        "colab": {
          "base_uri": "https://localhost:8080/",
          "height": 53
        },
        "outputId": "1ee17311-23cd-4fe3-96ae-54b8df83d77f"
      },
      "source": [
        "## 상수 https://www.acmicpc.net/problem/2908\n",
        "\n",
        "n,m = list(input().split(' '))\n",
        "\n",
        "n = n[::-1]\n",
        "m = m[::-1]\n",
        "if n>m:\n",
        "  print(n)\n",
        "else:\n",
        "  print(m)\n"
      ],
      "execution_count": null,
      "outputs": [
        {
          "output_type": "stream",
          "text": [
            "734 893\n",
            "437\n"
          ],
          "name": "stdout"
        }
      ]
    },
    {
      "cell_type": "code",
      "metadata": {
        "id": "wW7GgC5mnVVu",
        "colab_type": "code",
        "colab": {
          "base_uri": "https://localhost:8080/",
          "height": 35
        },
        "outputId": "a68ae0d6-694b-4b59-c991-5b72a3cada87"
      },
      "source": [
        "a = [1,3,2,4]\n",
        "\n",
        "print(a.sort())"
      ],
      "execution_count": null,
      "outputs": [
        {
          "output_type": "stream",
          "text": [
            "None\n"
          ],
          "name": "stdout"
        }
      ]
    },
    {
      "cell_type": "code",
      "metadata": {
        "id": "RBfRasHUf8Xp",
        "colab_type": "code",
        "colab": {
          "base_uri": "https://localhost:8080/",
          "height": 53
        },
        "outputId": "0c7fe7f2-f76c-49f2-e945-75fe3f48f437"
      },
      "source": [
        "## 음계 https://www.acmicpc.net/problem/2920 위에있던거\n",
        "\n",
        "a = list(map(int,input().split(' ')))\n",
        "\n",
        "if a == sorted(a):\n",
        "  print(\"ascending\")\n",
        "elif a == sorted(a,reverse=True):\n",
        "  print('descending')\n",
        "else:\n",
        "  print('mixed')"
      ],
      "execution_count": null,
      "outputs": [
        {
          "output_type": "stream",
          "text": [
            "1 5 2 3 4 6 7 8\n",
            "mixed\n"
          ],
          "name": "stdout"
        }
      ]
    },
    {
      "cell_type": "code",
      "metadata": {
        "id": "JU4rM3yokayC",
        "colab_type": "code",
        "colab": {
          "base_uri": "https://localhost:8080/",
          "height": 215
        },
        "outputId": "5ab46524-93ae-472d-d29c-91696d165779"
      },
      "source": [
        "## 나머지 https://www.acmicpc.net/problem/3052\n",
        "\n",
        "a = []\n",
        "\n",
        "for i in range(10):\n",
        "  b = int(input())\n",
        "  c = b%42\n",
        "  if c not in a:\n",
        "    a.append(c)\n",
        "print(len(a))"
      ],
      "execution_count": null,
      "outputs": [
        {
          "output_type": "stream",
          "text": [
            "39\n",
            "40\n",
            "41\n",
            "42\n",
            "43\n",
            "44\n",
            "82\n",
            "83\n",
            "84\n",
            "85\n",
            "6\n"
          ],
          "name": "stdout"
        }
      ]
    },
    {
      "cell_type": "code",
      "metadata": {
        "id": "7BBre1JRwW-0",
        "colab_type": "code",
        "colab": {
          "base_uri": "https://localhost:8080/",
          "height": 71
        },
        "outputId": "d3439ad2-6c7f-457d-f2ff-dbccd7a437bb"
      },
      "source": [
        "m = list(input())\n",
        "if m[0] == 'O':\n",
        "  print('맞네')\n",
        "print(m[1])"
      ],
      "execution_count": null,
      "outputs": [
        {
          "output_type": "stream",
          "text": [
            "OOXX\n",
            "맞네\n",
            "O\n"
          ],
          "name": "stdout"
        }
      ]
    },
    {
      "cell_type": "code",
      "metadata": {
        "id": "nYolxon4p7M1",
        "colab_type": "code",
        "colab": {
          "base_uri": "https://localhost:8080/",
          "height": 215
        },
        "outputId": "7340ccf1-cf1d-470c-9508-c2d1ab9d79d6"
      },
      "source": [
        "## ox퀴즈 https://www.acmicpc.net/problem/8958\n",
        "\n",
        "n = int(input())\n",
        "score = 0\n",
        "h = 0\n",
        "for _ in range(n):\n",
        "  m = list(input())\n",
        "  for idx,val in enumerate(m):\n",
        "    if idx == 0:\n",
        "      if m[idx] == 'O':\n",
        "        score = 1\n",
        "      else:\n",
        "        score = 0\n",
        "    else:\n",
        "      if m[idx] == 'O':\n",
        "        score +=1       \n",
        "        if m[idx-1] == m[idx]:\n",
        "          h+=1\n",
        "          if h>=1:\n",
        "            score += h\n",
        "          \n",
        "      else:\n",
        "        h = 0  \n",
        "          \n",
        "  print(score)\n",
        "  score=0\n",
        "  h=0\n",
        "      "
      ],
      "execution_count": null,
      "outputs": [
        {
          "output_type": "stream",
          "text": [
            "5\n",
            "OOXXOXXOOO\n",
            "10\n",
            "OOXXOOXXOO\n",
            "9\n",
            "OXOXOXOXOXOXOX\n",
            "7\n",
            "OOOOOOOOOO\n",
            "55\n",
            "OOOOXOOOOXOOOOX\n",
            "30\n"
          ],
          "name": "stdout"
        }
      ]
    },
    {
      "cell_type": "markdown",
      "metadata": {
        "id": "D0ThPaSw19k7",
        "colab_type": "text"
      },
      "source": [
        "# https://solved.ac/class/1 OX이후로 풀자"
      ]
    },
    {
      "cell_type": "code",
      "metadata": {
        "id": "XdVVkXG7rGhN",
        "colab_type": "code",
        "colab": {
          "base_uri": "https://localhost:8080/",
          "height": 53
        },
        "outputId": "ae09582b-abab-4200-c116-ff44c91deb0c"
      },
      "source": [
        "## 시험점수 https://www.acmicpc.net/problem/9498\n",
        "n = int(input())\n",
        "\n",
        "if n>=90:\n",
        "  print(\"A\")\n",
        "elif (n<90) & (n>=80):\n",
        "  print(\"B\")\n",
        "elif (n<80) & (n>=70):\n",
        "  print(\"C\")\n",
        "elif (n<70) & (n>=60):\n",
        "  print(\"D\")\n",
        "else:\n",
        "  print(\"F\")"
      ],
      "execution_count": 11,
      "outputs": [
        {
          "output_type": "stream",
          "text": [
            "69\n",
            "D\n"
          ],
          "name": "stdout"
        }
      ]
    },
    {
      "cell_type": "code",
      "metadata": {
        "id": "ZYLZXWX8Nubu",
        "colab_type": "code",
        "colab": {}
      },
      "source": [
        "a = []\n"
      ],
      "execution_count": 26,
      "outputs": []
    },
    {
      "cell_type": "code",
      "metadata": {
        "id": "U6nZL6wNKUIU",
        "colab_type": "code",
        "colab": {
          "base_uri": "https://localhost:8080/",
          "height": 71
        },
        "outputId": "6e63c04a-e992-4ade-fa2a-3448a0d60b1b"
      },
      "source": [
        "## 알파벳 찾기 https://www.acmicpc.net/problem/10809\n",
        "\n",
        "n = list(input())\n",
        "e = ['a','b','c','d','e','f','g','h','i','j','k','l','m','n','o','p','q','r','s','t','u','v','w','x','y','z']\n",
        "e2 = []\n",
        "a = []\n",
        "e3 = \"\"\n",
        "for i in range(0,26):\n",
        "  e2.append(-1)\n",
        "\n",
        "for i in n:\n",
        "  for idx,val in enumerate(e):\n",
        "    if i == val:\n",
        "      a.append(idx)\n",
        "for idx,val in enumerate(a):\n",
        "  if idx == 0:\n",
        "    e2[val] = idx\n",
        "    continue\n",
        "  if val in e2:\n",
        "    continue\n",
        "  e2[val] = idx\n",
        "\n",
        "for idx,val in enumerate(e2):\n",
        "  if idx == (len(e2)-1):\n",
        "    e3 = e3 +str(val)\n",
        "    print(\"hi\")\n",
        "  else:\n",
        "    e3 =  e3 + str(val) + ' '\n",
        "  \n",
        "\n",
        "print(e3)\n",
        "\n",
        "\n"
      ],
      "execution_count": 65,
      "outputs": [
        {
          "output_type": "stream",
          "text": [
            "baekjoon\n",
            "hi\n",
            "-1 0 -1 -1 2 -1 -1 -1 -1 4 3 -1 -1 7 6 -1 -1 -1 -1 -1 -1 -1 -1 -1 -1 -1\n"
          ],
          "name": "stdout"
        }
      ]
    },
    {
      "cell_type": "code",
      "metadata": {
        "id": "ESfjhSFZMJ5a",
        "colab_type": "code",
        "colab": {
          "base_uri": "https://localhost:8080/",
          "height": 53
        },
        "outputId": "1af839e8-e5d0-4a3a-b2cf-b4ee4de9c75d"
      },
      "source": [
        "## 알파벳 찾기 정답\n",
        "\n",
        "word = ['a', 'b', 'c', 'd', 'e', 'f', 'g','h', 'i', 'j', 'k', 'l', 'm', 'n', 'o', 'p', 'q', 'r', 's', 't', 'u', 'v', 'w', 'x', 'y', 'z']\n",
        "\n",
        "n = input()\n",
        "count = 0\n",
        "for i in range(len(word)):\n",
        "    print(n.find(word[i]) , end = ' ')"
      ],
      "execution_count": 69,
      "outputs": [
        {
          "output_type": "stream",
          "text": [
            "aba\n",
            "0 1 -1 -1 -1 -1 -1 -1 -1 -1 -1 -1 -1 -1 -1 -1 -1 -1 -1 -1 -1 -1 -1 -1 -1 -1 "
          ],
          "name": "stdout"
        }
      ]
    },
    {
      "cell_type": "code",
      "metadata": {
        "id": "qAdzALDaR_5c",
        "colab_type": "code",
        "colab": {
          "base_uri": "https://localhost:8080/",
          "height": 71
        },
        "outputId": "d2163dd5-d881-4474-d7f5-7d77c164e297"
      },
      "source": [
        "## 최소, 최대 https://www.acmicpc.net/problem/10818\n",
        "\n",
        "n = int(input())\n",
        "n2= list(map(int,input().split(' ')))\n",
        "\n",
        "print(min(n2),end=' ')\n",
        "print(max(n2))"
      ],
      "execution_count": 75,
      "outputs": [
        {
          "output_type": "stream",
          "text": [
            "5\n",
            "20 10 35 30 7\n",
            "7 35\n"
          ],
          "name": "stdout"
        }
      ]
    },
    {
      "cell_type": "code",
      "metadata": {
        "id": "RWTvlbVjZmIR",
        "colab_type": "code",
        "colab": {
          "base_uri": "https://localhost:8080/",
          "height": 125
        },
        "outputId": "70340d0b-cd55-455c-c577-5c8294680773"
      },
      "source": [
        "## 사칙연산 https://www.acmicpc.net/problem/10869\n",
        "\n",
        "n,m = input().split(' ')\n",
        "n = int(n)\n",
        "m = int(m)\n",
        "print(n+m)\n",
        "print(n-m)\n",
        "print(n*m)\n",
        "print(n//m)\n",
        "print(n%m)"
      ],
      "execution_count": 80,
      "outputs": [
        {
          "output_type": "stream",
          "text": [
            "7 3\n",
            "10\n",
            "4\n",
            "21\n",
            "2\n",
            "1\n"
          ],
          "name": "stdout"
        }
      ]
    },
    {
      "cell_type": "code",
      "metadata": {
        "id": "_K-cxz0tcnnd",
        "colab_type": "code",
        "colab": {
          "base_uri": "https://localhost:8080/",
          "height": 71
        },
        "outputId": "608bdeb1-e4b1-4ea5-957e-ba671e301004"
      },
      "source": [
        "## X보다 작은 수 https://www.acmicpc.net/problem/10871\n",
        "\n",
        "n,x = input().split(' ')\n",
        "n = int(n)\n",
        "x = int(x)\n",
        "result = []\n",
        "n2 = input().split(' ')\n",
        "for i in n2:\n",
        "  if x > int(i):\n",
        "    result.append(i)\n",
        "for i in result:\n",
        "  print(i,end=' ')"
      ],
      "execution_count": 82,
      "outputs": [
        {
          "output_type": "stream",
          "text": [
            "10 5\n",
            "1 10 4 9 2 3 8 5 7 6\n",
            "1 4 2 3 "
          ],
          "name": "stdout"
        }
      ]
    },
    {
      "cell_type": "code",
      "metadata": {
        "id": "7D_IQJYHe6q9",
        "colab_type": "code",
        "colab": {
          "base_uri": "https://localhost:8080/",
          "height": 215
        },
        "outputId": "94511bfe-a9d0-4e81-c11f-a938bdafdabb"
      },
      "source": [
        "## A+B -3 https://www.acmicpc.net/problem/10950\n",
        "\n",
        "n = int(input())\n",
        "n2 = []\n",
        "for _ in range(n):\n",
        "  a,b = input().split(' ')\n",
        "  c = int(a) + int(b)\n",
        "  n2.append(c)\n",
        "for i in n2:\n",
        "  print(i)"
      ],
      "execution_count": 83,
      "outputs": [
        {
          "output_type": "stream",
          "text": [
            "5\n",
            "1 1\n",
            "2 3\n",
            "3 4\n",
            "9 8\n",
            "5 2\n",
            "2\n",
            "5\n",
            "7\n",
            "17\n",
            "7\n"
          ],
          "name": "stdout"
        }
      ]
    },
    {
      "cell_type": "code",
      "metadata": {
        "id": "ic9ex11Nfkiu",
        "colab_type": "code",
        "colab": {
          "base_uri": "https://localhost:8080/",
          "height": 215
        },
        "outputId": "2025d7f0-2a40-4f31-b2c5-5e76c74ca900"
      },
      "source": [
        "# A+B -4 https://www.acmicpc.net/problem/10951\n",
        "\n",
        "while True:\n",
        "  try:\n",
        "    a, b = list(map(int,input().split(' ')))\n",
        "    print(a+b)\n",
        "  except:\n",
        "    break"
      ],
      "execution_count": 86,
      "outputs": [
        {
          "output_type": "stream",
          "text": [
            "1 1\n",
            "2\n",
            "2 3\n",
            "5\n",
            "3 4\n",
            "7\n",
            "9 8\n",
            "17\n",
            "5 2\n",
            "7\n",
            "0 0\n"
          ],
          "name": "stdout"
        }
      ]
    },
    {
      "cell_type": "code",
      "metadata": {
        "id": "xwdljASEgCJn",
        "colab_type": "code",
        "colab": {}
      },
      "source": [
        "## A+B -4 https://www.acmicpc.net/problem/10952\n",
        "\n",
        "while True:\n",
        "  a, b = list(map(int,input().split(' ')))\n",
        "  if a==0 & b==0:\n",
        "    break\n",
        "  print(a+b)"
      ],
      "execution_count": null,
      "outputs": []
    },
    {
      "cell_type": "code",
      "metadata": {
        "id": "rEItCwUzhMng",
        "colab_type": "code",
        "colab": {
          "base_uri": "https://localhost:8080/",
          "height": 53
        },
        "outputId": "acd47844-3074-401a-f687-1f4506dfec3a"
      },
      "source": [
        "## AXB https://www.acmicpc.net/problem/10998\n",
        "\n",
        "a,b = list(map(int,input().split(' ')))\n",
        "print(a*b)"
      ],
      "execution_count": 89,
      "outputs": [
        {
          "output_type": "stream",
          "text": [
            "1 2\n",
            "2\n"
          ],
          "name": "stdout"
        }
      ]
    },
    {
      "cell_type": "code",
      "metadata": {
        "id": "RGDEpy57hMh5",
        "colab_type": "code",
        "colab": {}
      },
      "source": [
        "1"
      ],
      "execution_count": null,
      "outputs": []
    }
  ]
}