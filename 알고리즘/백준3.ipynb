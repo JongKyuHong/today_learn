{
  "nbformat": 4,
  "nbformat_minor": 0,
  "metadata": {
    "colab": {
      "name": "백준3.ipynb",
      "provenance": [],
      "collapsed_sections": []
    },
    "kernelspec": {
      "name": "python3",
      "display_name": "Python 3"
    }
  },
  "cells": [
    {
      "cell_type": "code",
      "metadata": {
        "id": "xVMUqMXdIC_E",
        "colab_type": "code",
        "colab": {
          "base_uri": "https://localhost:8080/",
          "height": 280
        },
        "outputId": "e9224aab-0523-40a6-a338-4ecdc633ee8b"
      },
      "source": [
        "testcase = int(input())\n",
        "\n",
        "result = []\n",
        "for _ in range(testcase):\n",
        "  n,m = list(map(int,input().split(' ')))\n",
        "  im = list(map(int,input().split(' ')))\n",
        "  \n",
        "\n",
        "  result.append(im[m])\n",
        "print('\\n'.join(result))"
      ],
      "execution_count": null,
      "outputs": [
        {
          "output_type": "stream",
          "text": [
            "1\n",
            "1 0\n",
            "5\n",
            "5\n"
          ],
          "name": "stdout"
        },
        {
          "output_type": "error",
          "ename": "TypeError",
          "evalue": "ignored",
          "traceback": [
            "\u001b[0;31m---------------------------------------------------------------------------\u001b[0m",
            "\u001b[0;31mTypeError\u001b[0m                                 Traceback (most recent call last)",
            "\u001b[0;32m<ipython-input-7-855c6b2ab035>\u001b[0m in \u001b[0;36m<module>\u001b[0;34m()\u001b[0m\n\u001b[1;32m      7\u001b[0m   \u001b[0mprint\u001b[0m\u001b[0;34m(\u001b[0m\u001b[0mim\u001b[0m\u001b[0;34m[\u001b[0m\u001b[0mm\u001b[0m\u001b[0;34m]\u001b[0m\u001b[0;34m)\u001b[0m\u001b[0;34m\u001b[0m\u001b[0;34m\u001b[0m\u001b[0m\n\u001b[1;32m      8\u001b[0m   \u001b[0mresult\u001b[0m\u001b[0;34m.\u001b[0m\u001b[0mappend\u001b[0m\u001b[0;34m(\u001b[0m\u001b[0mim\u001b[0m\u001b[0;34m[\u001b[0m\u001b[0mm\u001b[0m\u001b[0;34m]\u001b[0m\u001b[0;34m)\u001b[0m\u001b[0;34m\u001b[0m\u001b[0;34m\u001b[0m\u001b[0m\n\u001b[0;32m----> 9\u001b[0;31m \u001b[0mprint\u001b[0m\u001b[0;34m(\u001b[0m\u001b[0;34m'\\n'\u001b[0m\u001b[0;34m.\u001b[0m\u001b[0mjoin\u001b[0m\u001b[0;34m(\u001b[0m\u001b[0mresult\u001b[0m\u001b[0;34m)\u001b[0m\u001b[0;34m)\u001b[0m\u001b[0;34m\u001b[0m\u001b[0;34m\u001b[0m\u001b[0m\n\u001b[0m",
            "\u001b[0;31mTypeError\u001b[0m: sequence item 0: expected str instance, int found"
          ]
        }
      ]
    },
    {
      "cell_type": "code",
      "metadata": {
        "id": "ZTN-2gp5YDoK",
        "colab_type": "code",
        "colab": {
          "base_uri": "https://localhost:8080/",
          "height": 197
        },
        "outputId": "13cd1490-8ae9-453e-90cc-25763f7a9633"
      },
      "source": [
        "### 음계\n",
        "\n",
        "a = list(map(int,input().split(' ')))\n",
        "\n",
        "asc = True\n",
        "des = True\n",
        "print(len(a))\n",
        "for i in range(1,8):\n",
        "  print(a[i])\n",
        "  if a[i] > a[i-1]:\n",
        "    des = False\n",
        "  elif a[i] < a[i-1]:\n",
        "    asc = False\n",
        " \n",
        "if asc:\n",
        "  print(\"ascending\")\n",
        "elif des:\n",
        "  print(\"descending\")\n",
        "else:\n",
        "  print(\"mixed\")"
      ],
      "execution_count": 22,
      "outputs": [
        {
          "output_type": "stream",
          "text": [
            "1 2 3 4 5 6 7 8\n",
            "8\n",
            "2\n",
            "3\n",
            "4\n",
            "5\n",
            "6\n",
            "7\n",
            "8\n",
            "ascending\n"
          ],
          "name": "stdout"
        }
      ]
    },
    {
      "cell_type": "code",
      "metadata": {
        "id": "JTKSPqRmvkL9",
        "colab_type": "code",
        "colab": {
          "base_uri": "https://localhost:8080/",
          "height": 71
        },
        "outputId": "28032424-d506-4d7e-eb7a-c9fc5472696f"
      },
      "source": [
        "### 블랙잭\n",
        "\n",
        "n ,m = list(map(int, input().split(' ')))\n",
        "card = list(map(int, input().split(' ')))\n",
        "sum = 0\n",
        "result = 0\n",
        "for i in range(n):\n",
        "  for j in range(i+1,n):\n",
        "    for k in range(j+1,n):\n",
        "      sum = card[i] + card[j] + card[k]\n",
        "      if m >= sum:\n",
        "        if result < sum:\n",
        "          result = sum\n",
        "\n",
        "print(result)\n"
      ],
      "execution_count": 26,
      "outputs": [
        {
          "output_type": "stream",
          "text": [
            "10 500\n",
            "93 181 245 214 315 36 185 138 216 295\n",
            "497\n"
          ],
          "name": "stdout"
        }
      ]
    },
    {
      "cell_type": "code",
      "metadata": {
        "id": "BnsDCBIxwwzV",
        "colab_type": "code",
        "colab": {
          "base_uri": "https://localhost:8080/",
          "height": 143
        },
        "outputId": "f801f7e4-bed3-4f48-dbe6-8e158a0446f0"
      },
      "source": [
        "### 스택\n",
        "\n",
        "n = int(input())\n",
        "num = 1\n",
        "stack = []\n",
        "st = []\n",
        "result = []\n",
        "a = True\n",
        "for _ in range(1,n+1):\n",
        "  card = int(input())\n",
        "  while num <= card:\n",
        "    stack.append(num)\n",
        "    num +=1\n",
        "    st.append(\"+\")\n",
        "  if stack[-1] == card:\n",
        "    result.append(stack.pop())\n",
        "    st.append(\"-\")\n",
        "  else:\n",
        "    a = False\n",
        "\n",
        "if a:\n",
        "  print(\"\\n\".join(st))\n",
        "else:\n",
        "  print(\"NO\")"
      ],
      "execution_count": 32,
      "outputs": [
        {
          "output_type": "stream",
          "text": [
            "5\n",
            "1\n",
            "2\n",
            "5\n",
            "3\n",
            "4\n",
            "NO\n"
          ],
          "name": "stdout"
        }
      ]
    },
    {
      "cell_type": "code",
      "metadata": {
        "id": "RwsT9xHv9xF6",
        "colab_type": "code",
        "colab": {}
      },
      "source": [
        ""
      ],
      "execution_count": null,
      "outputs": []
    }
  ]
}