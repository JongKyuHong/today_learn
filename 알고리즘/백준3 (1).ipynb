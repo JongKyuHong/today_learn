{
  "nbformat": 4,
  "nbformat_minor": 0,
  "metadata": {
    "colab": {
      "name": "백준3.ipynb",
      "provenance": [],
      "collapsed_sections": []
    },
    "kernelspec": {
      "name": "python3",
      "display_name": "Python 3"
    }
  },
  "cells": [
    {
      "cell_type": "code",
      "metadata": {
        "id": "xVMUqMXdIC_E",
        "colab_type": "code",
        "colab": {
          "base_uri": "https://localhost:8080/",
          "height": 280
        },
        "outputId": "e9224aab-0523-40a6-a338-4ecdc633ee8b"
      },
      "source": [
        "testcase = int(input())\n",
        "\n",
        "result = []\n",
        "for _ in range(testcase):\n",
        "  n,m = list(map(int,input().split(' ')))\n",
        "  im = list(map(int,input().split(' ')))\n",
        "  \n",
        "\n",
        "  result.append(im[m])\n",
        "print('\\n'.join(result))"
      ],
      "execution_count": null,
      "outputs": [
        {
          "output_type": "stream",
          "text": [
            "1\n",
            "1 0\n",
            "5\n",
            "5\n"
          ],
          "name": "stdout"
        },
        {
          "output_type": "error",
          "ename": "TypeError",
          "evalue": "ignored",
          "traceback": [
            "\u001b[0;31m---------------------------------------------------------------------------\u001b[0m",
            "\u001b[0;31mTypeError\u001b[0m                                 Traceback (most recent call last)",
            "\u001b[0;32m<ipython-input-7-855c6b2ab035>\u001b[0m in \u001b[0;36m<module>\u001b[0;34m()\u001b[0m\n\u001b[1;32m      7\u001b[0m   \u001b[0mprint\u001b[0m\u001b[0;34m(\u001b[0m\u001b[0mim\u001b[0m\u001b[0;34m[\u001b[0m\u001b[0mm\u001b[0m\u001b[0;34m]\u001b[0m\u001b[0;34m)\u001b[0m\u001b[0;34m\u001b[0m\u001b[0;34m\u001b[0m\u001b[0m\n\u001b[1;32m      8\u001b[0m   \u001b[0mresult\u001b[0m\u001b[0;34m.\u001b[0m\u001b[0mappend\u001b[0m\u001b[0;34m(\u001b[0m\u001b[0mim\u001b[0m\u001b[0;34m[\u001b[0m\u001b[0mm\u001b[0m\u001b[0;34m]\u001b[0m\u001b[0;34m)\u001b[0m\u001b[0;34m\u001b[0m\u001b[0;34m\u001b[0m\u001b[0m\n\u001b[0;32m----> 9\u001b[0;31m \u001b[0mprint\u001b[0m\u001b[0;34m(\u001b[0m\u001b[0;34m'\\n'\u001b[0m\u001b[0;34m.\u001b[0m\u001b[0mjoin\u001b[0m\u001b[0;34m(\u001b[0m\u001b[0mresult\u001b[0m\u001b[0;34m)\u001b[0m\u001b[0;34m)\u001b[0m\u001b[0;34m\u001b[0m\u001b[0;34m\u001b[0m\u001b[0m\n\u001b[0m",
            "\u001b[0;31mTypeError\u001b[0m: sequence item 0: expected str instance, int found"
          ]
        }
      ]
    },
    {
      "cell_type": "code",
      "metadata": {
        "id": "ZTN-2gp5YDoK",
        "colab_type": "code",
        "colab": {
          "base_uri": "https://localhost:8080/",
          "height": 197
        },
        "outputId": "13cd1490-8ae9-453e-90cc-25763f7a9633"
      },
      "source": [
        "### 음계\n",
        "\n",
        "a = list(map(int,input().split(' ')))\n",
        "\n",
        "asc = True\n",
        "des = True\n",
        "print(len(a))\n",
        "for i in range(1,8):\n",
        "  print(a[i])\n",
        "  if a[i] > a[i-1]:\n",
        "    des = False\n",
        "  elif a[i] < a[i-1]:\n",
        "    asc = False\n",
        " \n",
        "if asc:\n",
        "  print(\"ascending\")\n",
        "elif des:\n",
        "  print(\"descending\")\n",
        "else:\n",
        "  print(\"mixed\")"
      ],
      "execution_count": null,
      "outputs": [
        {
          "output_type": "stream",
          "text": [
            "1 2 3 4 5 6 7 8\n",
            "8\n",
            "2\n",
            "3\n",
            "4\n",
            "5\n",
            "6\n",
            "7\n",
            "8\n",
            "ascending\n"
          ],
          "name": "stdout"
        }
      ]
    },
    {
      "cell_type": "code",
      "metadata": {
        "id": "JTKSPqRmvkL9",
        "colab_type": "code",
        "colab": {
          "base_uri": "https://localhost:8080/",
          "height": 71
        },
        "outputId": "28032424-d506-4d7e-eb7a-c9fc5472696f"
      },
      "source": [
        "### 블랙잭\n",
        "\n",
        "n ,m = list(map(int, input().split(' ')))\n",
        "card = list(map(int, input().split(' ')))\n",
        "sum = 0\n",
        "result = 0\n",
        "for i in range(n):\n",
        "  for j in range(i+1,n):\n",
        "    for k in range(j+1,n):\n",
        "      sum = card[i] + card[j] + card[k]\n",
        "      if m >= sum:\n",
        "        if result < sum:\n",
        "          result = sum\n",
        "\n",
        "print(result)\n"
      ],
      "execution_count": null,
      "outputs": [
        {
          "output_type": "stream",
          "text": [
            "10 500\n",
            "93 181 245 214 315 36 185 138 216 295\n",
            "497\n"
          ],
          "name": "stdout"
        }
      ]
    },
    {
      "cell_type": "code",
      "metadata": {
        "id": "BnsDCBIxwwzV",
        "colab_type": "code",
        "colab": {
          "base_uri": "https://localhost:8080/",
          "height": 143
        },
        "outputId": "f801f7e4-bed3-4f48-dbe6-8e158a0446f0"
      },
      "source": [
        "### 스택\n",
        "\n",
        "n = int(input())\n",
        "num = 1\n",
        "stack = []\n",
        "st = []\n",
        "result = []\n",
        "a = True\n",
        "for _ in range(1,n+1):\n",
        "  card = int(input())\n",
        "  while num <= card:\n",
        "    stack.append(num)\n",
        "    num +=1\n",
        "    st.append(\"+\")\n",
        "  if stack[-1] == card:\n",
        "    result.append(stack.pop())\n",
        "    st.append(\"-\")\n",
        "  else:\n",
        "    a = False\n",
        "\n",
        "if a:\n",
        "  print(\"\\n\".join(st))\n",
        "else:\n",
        "  print(\"NO\")"
      ],
      "execution_count": null,
      "outputs": [
        {
          "output_type": "stream",
          "text": [
            "5\n",
            "1\n",
            "2\n",
            "5\n",
            "3\n",
            "4\n",
            "NO\n"
          ],
          "name": "stdout"
        }
      ]
    },
    {
      "cell_type": "code",
      "metadata": {
        "id": "YQo-DiMcsgmt",
        "colab_type": "code",
        "colab": {
          "base_uri": "https://localhost:8080/",
          "height": 53
        },
        "outputId": "bf2f0123-78ae-4ce6-b0b1-a1ddc23ab54e"
      },
      "source": [
        "queue = list(map(int,input().split(' ')))\n",
        "queue = [(i, idx) for idx, i in enumerate(queue)]\n",
        "a = max(queue,key=lambda x: x[0])[0]\n",
        "print(a)"
      ],
      "execution_count": null,
      "outputs": [
        {
          "output_type": "stream",
          "text": [
            "1 2 3 4 5 6 9 8\n",
            "9\n"
          ],
          "name": "stdout"
        }
      ]
    },
    {
      "cell_type": "code",
      "metadata": {
        "id": "RwsT9xHv9xF6",
        "colab_type": "code",
        "colab": {}
      },
      "source": [
        "### 큐\n",
        "\n",
        "testcase = int(input())\n",
        "\n",
        "for _ in range(len(testcase)):\n",
        "  n,m = list(map(int,input().split(' ')))\n",
        "  data = list(map(int,input().split(' '))) #입력한 중요도\n",
        "  data = [(idx,i)for (i,idx) in range(data)]\n",
        "  count = 0\n",
        "  while True:\n",
        "    data[0][0] = max(data,lambda x:x[0])[0]\n",
        "    \n",
        "    "
      ],
      "execution_count": null,
      "outputs": []
    },
    {
      "cell_type": "code",
      "metadata": {
        "id": "MZWmHfofCWWM",
        "colab_type": "code",
        "colab": {
          "base_uri": "https://localhost:8080/",
          "height": 107
        },
        "outputId": "a031ec56-eb30-439a-eca2-9230b44e26a7"
      },
      "source": [
        "### 키로거\n",
        "\n",
        "testcase = int(input())\n",
        "\n",
        "\n",
        "for _ in range(testcase):\n",
        "  L = input()\n",
        "  left = []\n",
        "  right = []\n",
        "  for i in L:\n",
        "    if i == '-':\n",
        "      if left:\n",
        "        left.pop()\n",
        "    elif i == '<':\n",
        "      if left:\n",
        "        right.append(left.pop())\n",
        "    elif i == '>':\n",
        "      if right:\n",
        "        left.append(right.pop())\n",
        "    else:\n",
        "      left.append(i)\n",
        "\n",
        "  left.extend(reversed(right))\n",
        "  print(''.join(left))\n"
      ],
      "execution_count": 15,
      "outputs": [
        {
          "output_type": "stream",
          "text": [
            "2\n",
            "<<BP<A>>Cd-\n",
            "BAPC\n",
            "ThIsIsS3Cr3t\n",
            "ThIsIsS3Cr3t\n"
          ],
          "name": "stdout"
        }
      ]
    },
    {
      "cell_type": "code",
      "metadata": {
        "id": "t2GrhepxUXXk",
        "colab_type": "code",
        "colab": {
          "base_uri": "https://localhost:8080/",
          "height": 53
        },
        "outputId": "9c77c7ad-7d05-4fb1-8834-53f0f81c77fb"
      },
      "source": [
        "### SHA-256\n",
        "\n",
        "import hashlib\n",
        "\n",
        "S = input()\n",
        "\n",
        "result = hashlib.sha256(S.encode())\n",
        "print(result.hexdigest())"
      ],
      "execution_count": 17,
      "outputs": [
        {
          "output_type": "stream",
          "text": [
            "Baekjoon\n",
            "9944e1862efbb2a4e2486392dc6701896416b251eccdecb8332deb7f4cf2a857\n"
          ],
          "name": "stdout"
        }
      ]
    },
    {
      "cell_type": "code",
      "metadata": {
        "id": "JXXmRg-LcQzk",
        "colab_type": "code",
        "colab": {
          "base_uri": "https://localhost:8080/",
          "height": 179
        },
        "outputId": "414e3a35-f258-466b-d0b6-619961ad6967"
      },
      "source": [
        "#### 수찾기+\n",
        "\n",
        "\n",
        "N = int(input())\n",
        "array = set(map(int,input().split(\" \")))\n",
        "M = int(input())\n",
        "an = list(map(int,input().split(' ')))\n",
        "\n",
        "for i in an:\n",
        "  if i in array:\n",
        "    print(\"1\")\n",
        "  else:\n",
        "    print(\"0\")"
      ],
      "execution_count": 19,
      "outputs": [
        {
          "output_type": "stream",
          "text": [
            "5\n",
            "4 1 5 2 3\n",
            "5\n",
            "1 3 7 9 5\n",
            "1\n",
            "1\n",
            "0\n",
            "0\n",
            "1\n"
          ],
          "name": "stdout"
        }
      ]
    },
    {
      "cell_type": "code",
      "metadata": {
        "id": "0REfUI1sfyCy",
        "colab_type": "code",
        "colab": {}
      },
      "source": [
        "### 친구 네트워크\n",
        "### 문제를 이해 못하겠음\n",
        "\n",
        "testcase = int(input())\n",
        "fre2 = []\n",
        "for _ in testcase:\n",
        "  F = int(input())\n",
        "  for _ in F:\n",
        "    fre = input()\n",
        "    fre2.append(fre)\n"
      ],
      "execution_count": null,
      "outputs": []
    },
    {
      "cell_type": "code",
      "metadata": {
        "id": "rqZ1uhgllVIx",
        "colab_type": "code",
        "colab": {
          "base_uri": "https://localhost:8080/",
          "height": 215
        },
        "outputId": "49b01ba2-3e54-4ecd-9718-7ef25e8ef8f3"
      },
      "source": [
        "### 수 정렬하기\n",
        "\n",
        "n = int(input())\n",
        "\n",
        "fre = []\n",
        "for _ in range(n):\n",
        "  fre.append(int(input()))\n",
        "fre.sort()\n",
        "\n",
        "for x in fre:\n",
        "  print(x)"
      ],
      "execution_count": 27,
      "outputs": [
        {
          "output_type": "stream",
          "text": [
            "5\n",
            "1\n",
            "4\n",
            "6\n",
            "5\n",
            "3\n",
            "1\n",
            "3\n",
            "4\n",
            "5\n",
            "6\n"
          ],
          "name": "stdout"
        }
      ]
    },
    {
      "cell_type": "code",
      "metadata": {
        "id": "AhHe3ZDCltDp",
        "colab_type": "code",
        "colab": {
          "base_uri": "https://localhost:8080/",
          "height": 53
        },
        "outputId": "82adc747-943c-4f11-cab8-743f8b933b42"
      },
      "source": [
        "### 소트 인사이드\n",
        "\n",
        "a = list(map(int,input()))\n",
        "fre=[]\n",
        "for x in a:\n",
        "  fre.append(x)\n",
        "fre.sort(reverse=True)\n",
        "for i in fre:\n",
        "  print(i,end='')"
      ],
      "execution_count": 41,
      "outputs": [
        {
          "output_type": "stream",
          "text": [
            "2143\n",
            "4321"
          ],
          "name": "stdout"
        }
      ]
    },
    {
      "cell_type": "code",
      "metadata": {
        "id": "a5EA6bUnrSNT",
        "colab_type": "code",
        "colab": {}
      },
      "source": [
        "n,m = list(map(int,input().split(' ')))\n",
        "  data = list(map(int,input().split(' '))) #입력한 중요도\n",
        "  data = [(idx,i)for (i,idx) in range(data)]\n",
        "  count = 0"
      ],
      "execution_count": null,
      "outputs": []
    },
    {
      "cell_type": "code",
      "metadata": {
        "id": "gwHIXDoJnmnx",
        "colab_type": "code",
        "colab": {
          "base_uri": "https://localhost:8080/",
          "height": 262
        },
        "outputId": "f74d1a39-787b-4a7e-8fdc-7745915e1b5b"
      },
      "source": [
        "### 나이순 정렬\n",
        "\n",
        "n = int(input())\n",
        "\n",
        "for _ in range(n):\n",
        "  data =  input().split(' ')\n",
        "  data = [(idx, i) for (i, idx) in range(data)]\n",
        "  print(data)"
      ],
      "execution_count": 48,
      "outputs": [
        {
          "output_type": "stream",
          "text": [
            "3\n",
            "21 Junkyu\n"
          ],
          "name": "stdout"
        },
        {
          "output_type": "error",
          "ename": "TypeError",
          "evalue": "ignored",
          "traceback": [
            "\u001b[0;31m---------------------------------------------------------------------------\u001b[0m",
            "\u001b[0;31mTypeError\u001b[0m                                 Traceback (most recent call last)",
            "\u001b[0;32m<ipython-input-48-9b702c148097>\u001b[0m in \u001b[0;36m<module>\u001b[0;34m()\u001b[0m\n\u001b[1;32m      5\u001b[0m \u001b[0;32mfor\u001b[0m \u001b[0m_\u001b[0m \u001b[0;32min\u001b[0m \u001b[0mrange\u001b[0m\u001b[0;34m(\u001b[0m\u001b[0mn\u001b[0m\u001b[0;34m)\u001b[0m\u001b[0;34m:\u001b[0m\u001b[0;34m\u001b[0m\u001b[0;34m\u001b[0m\u001b[0m\n\u001b[1;32m      6\u001b[0m   \u001b[0mdata\u001b[0m \u001b[0;34m=\u001b[0m  \u001b[0minput\u001b[0m\u001b[0;34m(\u001b[0m\u001b[0;34m)\u001b[0m\u001b[0;34m.\u001b[0m\u001b[0msplit\u001b[0m\u001b[0;34m(\u001b[0m\u001b[0;34m' '\u001b[0m\u001b[0;34m)\u001b[0m\u001b[0;34m\u001b[0m\u001b[0;34m\u001b[0m\u001b[0m\n\u001b[0;32m----> 7\u001b[0;31m   \u001b[0mdata\u001b[0m \u001b[0;34m=\u001b[0m \u001b[0;34m[\u001b[0m\u001b[0;34m(\u001b[0m\u001b[0midx\u001b[0m\u001b[0;34m,\u001b[0m \u001b[0mi\u001b[0m\u001b[0;34m)\u001b[0m \u001b[0;32mfor\u001b[0m \u001b[0;34m(\u001b[0m\u001b[0mi\u001b[0m\u001b[0;34m,\u001b[0m \u001b[0midx\u001b[0m\u001b[0;34m)\u001b[0m \u001b[0;32min\u001b[0m \u001b[0mrange\u001b[0m\u001b[0;34m(\u001b[0m\u001b[0mdata\u001b[0m\u001b[0;34m)\u001b[0m\u001b[0;34m]\u001b[0m\u001b[0;34m\u001b[0m\u001b[0;34m\u001b[0m\u001b[0m\n\u001b[0m\u001b[1;32m      8\u001b[0m   \u001b[0mprint\u001b[0m\u001b[0;34m(\u001b[0m\u001b[0mdata\u001b[0m\u001b[0;34m)\u001b[0m\u001b[0;34m\u001b[0m\u001b[0;34m\u001b[0m\u001b[0m\n",
            "\u001b[0;31mTypeError\u001b[0m: 'list' object cannot be interpreted as an integer"
          ]
        }
      ]
    },
    {
      "cell_type": "code",
      "metadata": {
        "id": "vKwp1tg4qpEa",
        "colab_type": "code",
        "colab": {}
      },
      "source": [
        ""
      ],
      "execution_count": null,
      "outputs": []
    }
  ]
}