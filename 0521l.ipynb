{
  "nbformat": 4,
  "nbformat_minor": 0,
  "metadata": {
    "colab": {
      "name": "홍종규.ipynb",
      "provenance": [],
      "collapsed_sections": []
    },
    "kernelspec": {
      "name": "python3",
      "display_name": "Python 3"
    }
  },
  "cells": [
    {
      "cell_type": "code",
      "metadata": {
        "id": "cP8CbHKy6nr9",
        "colab_type": "code",
        "colab": {}
      },
      "source": [
        "from sklearn.tree import DecisionTreeClassifier\n",
        "from sklearn.model_selection import train_test_split\n",
        "from sklearn.datasets import load_breast_cancer\n",
        "import seaborn as sns"
      ],
      "execution_count": 0,
      "outputs": []
    },
    {
      "cell_type": "code",
      "metadata": {
        "id": "FBWU9MIk77x0",
        "colab_type": "code",
        "colab": {}
      },
      "source": [
        "cancer = load_breast_cancer()\n",
        "all_x = cancer.data\n",
        "all_y = cancer.target"
      ],
      "execution_count": 0,
      "outputs": []
    },
    {
      "cell_type": "code",
      "metadata": {
        "id": "dZ8qS5isaewc",
        "colab_type": "code",
        "colab": {
          "base_uri": "https://localhost:8080/",
          "height": 251
        },
        "outputId": "d2b8b5fb-d425-4f8b-ed35-3c1c4106a8e0"
      },
      "source": [
        "cancer.data"
      ],
      "execution_count": 48,
      "outputs": [
        {
          "output_type": "execute_result",
          "data": {
            "text/plain": [
              "array([[1.799e+01, 1.038e+01, 1.228e+02, ..., 2.654e-01, 4.601e-01,\n",
              "        1.189e-01],\n",
              "       [2.057e+01, 1.777e+01, 1.329e+02, ..., 1.860e-01, 2.750e-01,\n",
              "        8.902e-02],\n",
              "       [1.969e+01, 2.125e+01, 1.300e+02, ..., 2.430e-01, 3.613e-01,\n",
              "        8.758e-02],\n",
              "       ...,\n",
              "       [1.660e+01, 2.808e+01, 1.083e+02, ..., 1.418e-01, 2.218e-01,\n",
              "        7.820e-02],\n",
              "       [2.060e+01, 2.933e+01, 1.401e+02, ..., 2.650e-01, 4.087e-01,\n",
              "        1.240e-01],\n",
              "       [7.760e+00, 2.454e+01, 4.792e+01, ..., 0.000e+00, 2.871e-01,\n",
              "        7.039e-02]])"
            ]
          },
          "metadata": {
            "tags": []
          },
          "execution_count": 48
        }
      ]
    },
    {
      "cell_type": "code",
      "metadata": {
        "id": "h4LphNXq8uPP",
        "colab_type": "code",
        "colab": {}
      },
      "source": [
        "x_train,x_test,y_train,y_test = train_test_split(all_x,all_y,\n",
        "                                                 stratify=cancer.target,\n",
        "                                                 test_size = 0.3,\n",
        "                                                 random_state=77)"
      ],
      "execution_count": 0,
      "outputs": []
    },
    {
      "cell_type": "code",
      "metadata": {
        "id": "cLd3CvwX84S_",
        "colab_type": "code",
        "colab": {}
      },
      "source": [
        "## 모델 생성\n",
        "## 모델 훈련\n",
        "## 모델 예측\n",
        "## 평가\n",
        "model = DecisionTreeClassifier(random_state=0)\n",
        "model.fit(x_train,y_train)\n",
        "pred = model.predict(x_test)"
      ],
      "execution_count": 0,
      "outputs": []
    },
    {
      "cell_type": "code",
      "metadata": {
        "id": "Hmt6h5DR9cEb",
        "colab_type": "code",
        "outputId": "28524563-961a-4fab-b8fa-eea480709ef2",
        "colab": {
          "base_uri": "https://localhost:8080/",
          "height": 251
        }
      },
      "source": [
        "cancer.data"
      ],
      "execution_count": 47,
      "outputs": [
        {
          "output_type": "execute_result",
          "data": {
            "text/plain": [
              "array([[1.799e+01, 1.038e+01, 1.228e+02, ..., 2.654e-01, 4.601e-01,\n",
              "        1.189e-01],\n",
              "       [2.057e+01, 1.777e+01, 1.329e+02, ..., 1.860e-01, 2.750e-01,\n",
              "        8.902e-02],\n",
              "       [1.969e+01, 2.125e+01, 1.300e+02, ..., 2.430e-01, 3.613e-01,\n",
              "        8.758e-02],\n",
              "       ...,\n",
              "       [1.660e+01, 2.808e+01, 1.083e+02, ..., 1.418e-01, 2.218e-01,\n",
              "        7.820e-02],\n",
              "       [2.060e+01, 2.933e+01, 1.401e+02, ..., 2.650e-01, 4.087e-01,\n",
              "        1.240e-01],\n",
              "       [7.760e+00, 2.454e+01, 4.792e+01, ..., 0.000e+00, 2.871e-01,\n",
              "        7.039e-02]])"
            ]
          },
          "metadata": {
            "tags": []
          },
          "execution_count": 47
        }
      ]
    },
    {
      "cell_type": "code",
      "metadata": {
        "id": "S9AbsRAN9iZB",
        "colab_type": "code",
        "outputId": "7e22d394-60a5-453d-9244-3a22f0b05078",
        "colab": {
          "base_uri": "https://localhost:8080/",
          "height": 35
        }
      },
      "source": [
        "model.score(x_test,y_test)"
      ],
      "execution_count": 0,
      "outputs": [
        {
          "output_type": "execute_result",
          "data": {
            "text/plain": [
              "0.9181286549707602"
            ]
          },
          "metadata": {
            "tags": []
          },
          "execution_count": 12
        }
      ]
    },
    {
      "cell_type": "code",
      "metadata": {
        "id": "W9EaEqzb9lM8",
        "colab_type": "code",
        "colab": {}
      },
      "source": [
        "cancer = load_breast_cancer()\n",
        "all_x = cancer.data\n",
        "all_y = cancer.target\n",
        "def testModel(testSize=0.3,maxdep=1):\n",
        "  x_train,x_test,y_train,y_test = train_test_split(all_x,all_y,\n",
        "                                                 stratify=cancer.target,\n",
        "                                                 test_size = testSize,\n",
        "                                        \n",
        "                                                 random_state=77)\n",
        "  model = DecisionTreeClassifier(max_depth=maxdep,random_state=0)\n",
        "  model.fit(x_train,y_train)\n",
        "  print(\"훈련 데이터에 대한 점수 : \",model.score(x_train,y_train))\n",
        "  print(\"테스트 데이터에 대한 점수 : \",model.score(x_test,y_test))\n",
        "  a = model.score(x_test,y_test)\n",
        "  return a"
      ],
      "execution_count": 0,
      "outputs": []
    },
    {
      "cell_type": "code",
      "metadata": {
        "id": "HICWmWYJ-pKI",
        "colab_type": "code",
        "outputId": "48de0970-31a4-4781-b0fe-fe9dfb9d678b",
        "colab": {
          "base_uri": "https://localhost:8080/",
          "height": 1000
        }
      },
      "source": [
        "test_size_list = [0.1,0.2,0.3,0.4,0.5]\n",
        "d_list = [1,2,3,4,5,6,7,8,9,10]\n",
        "\n",
        "for i in test_size_list:\n",
        "  for j in d_list:\n",
        "    \n",
        "    t_rate = (1-i)*100 #훈련 데이터 비율\n",
        "    test_rate = i*100 #테스트 데이터 비율\n",
        "    print(\"훈련 데이터와 테스트 데이터 비율 -> {} : {} \".format(t_rate,test_rate))\n",
        "    print(\"깊이 -> {}\".format(j))\n",
        "    a = testModel(testSize=i,maxdep=j)\n",
        "\n",
        "    if j==1:\n",
        "      max = a\n",
        "    else:\n",
        "      if max < a:\n",
        "        max = a\n",
        "        maxj = j\n",
        "print(\"비율 {} 일때 깊이 {}, 정확도 {}\".format(t_rate,maxj,max))"
      ],
      "execution_count": 0,
      "outputs": [
        {
          "output_type": "stream",
          "text": [
            "훈련 데이터와 테스트 데이터 비율 -> 90.0 : 10.0 \n",
            "깊이 -> 1\n",
            "훈련 데이터에 대한 점수 :  0.92578125\n",
            "테스트 데이터에 대한 점수 :  0.8596491228070176\n",
            "훈련 데이터와 테스트 데이터 비율 -> 90.0 : 10.0 \n",
            "깊이 -> 2\n",
            "훈련 데이터에 대한 점수 :  0.953125\n",
            "테스트 데이터에 대한 점수 :  0.8771929824561403\n",
            "훈련 데이터와 테스트 데이터 비율 -> 90.0 : 10.0 \n",
            "깊이 -> 3\n",
            "훈련 데이터에 대한 점수 :  0.970703125\n",
            "테스트 데이터에 대한 점수 :  0.8771929824561403\n",
            "훈련 데이터와 테스트 데이터 비율 -> 90.0 : 10.0 \n",
            "깊이 -> 4\n",
            "훈련 데이터에 대한 점수 :  0.986328125\n",
            "테스트 데이터에 대한 점수 :  0.8771929824561403\n",
            "훈련 데이터와 테스트 데이터 비율 -> 90.0 : 10.0 \n",
            "깊이 -> 5\n",
            "훈련 데이터에 대한 점수 :  0.98828125\n",
            "테스트 데이터에 대한 점수 :  0.8771929824561403\n",
            "훈련 데이터와 테스트 데이터 비율 -> 90.0 : 10.0 \n",
            "깊이 -> 6\n",
            "훈련 데이터에 대한 점수 :  0.99609375\n",
            "테스트 데이터에 대한 점수 :  0.8947368421052632\n",
            "훈련 데이터와 테스트 데이터 비율 -> 90.0 : 10.0 \n",
            "깊이 -> 7\n",
            "훈련 데이터에 대한 점수 :  1.0\n",
            "테스트 데이터에 대한 점수 :  0.9122807017543859\n",
            "훈련 데이터와 테스트 데이터 비율 -> 90.0 : 10.0 \n",
            "깊이 -> 8\n",
            "훈련 데이터에 대한 점수 :  1.0\n",
            "테스트 데이터에 대한 점수 :  0.9122807017543859\n",
            "훈련 데이터와 테스트 데이터 비율 -> 90.0 : 10.0 \n",
            "깊이 -> 9\n",
            "훈련 데이터에 대한 점수 :  1.0\n",
            "테스트 데이터에 대한 점수 :  0.9122807017543859\n",
            "훈련 데이터와 테스트 데이터 비율 -> 90.0 : 10.0 \n",
            "깊이 -> 10\n",
            "훈련 데이터에 대한 점수 :  1.0\n",
            "테스트 데이터에 대한 점수 :  0.9122807017543859\n",
            "훈련 데이터와 테스트 데이터 비율 -> 80.0 : 20.0 \n",
            "깊이 -> 1\n",
            "훈련 데이터에 대한 점수 :  0.9296703296703297\n",
            "테스트 데이터에 대한 점수 :  0.8947368421052632\n",
            "훈련 데이터와 테스트 데이터 비율 -> 80.0 : 20.0 \n",
            "깊이 -> 2\n",
            "훈련 데이터에 대한 점수 :  0.9560439560439561\n",
            "테스트 데이터에 대한 점수 :  0.8859649122807017\n",
            "훈련 데이터와 테스트 데이터 비율 -> 80.0 : 20.0 \n",
            "깊이 -> 3\n",
            "훈련 데이터에 대한 점수 :  0.9802197802197802\n",
            "테스트 데이터에 대한 점수 :  0.8947368421052632\n",
            "훈련 데이터와 테스트 데이터 비율 -> 80.0 : 20.0 \n",
            "깊이 -> 4\n",
            "훈련 데이터에 대한 점수 :  0.9868131868131869\n",
            "테스트 데이터에 대한 점수 :  0.8859649122807017\n",
            "훈련 데이터와 테스트 데이터 비율 -> 80.0 : 20.0 \n",
            "깊이 -> 5\n",
            "훈련 데이터에 대한 점수 :  0.9912087912087912\n",
            "테스트 데이터에 대한 점수 :  0.9122807017543859\n",
            "훈련 데이터와 테스트 데이터 비율 -> 80.0 : 20.0 \n",
            "깊이 -> 6\n",
            "훈련 데이터에 대한 점수 :  0.9956043956043956\n",
            "테스트 데이터에 대한 점수 :  0.8947368421052632\n",
            "훈련 데이터와 테스트 데이터 비율 -> 80.0 : 20.0 \n",
            "깊이 -> 7\n",
            "훈련 데이터에 대한 점수 :  0.9978021978021978\n",
            "테스트 데이터에 대한 점수 :  0.868421052631579\n",
            "훈련 데이터와 테스트 데이터 비율 -> 80.0 : 20.0 \n",
            "깊이 -> 8\n",
            "훈련 데이터에 대한 점수 :  1.0\n",
            "테스트 데이터에 대한 점수 :  0.9122807017543859\n",
            "훈련 데이터와 테스트 데이터 비율 -> 80.0 : 20.0 \n",
            "깊이 -> 9\n",
            "훈련 데이터에 대한 점수 :  1.0\n",
            "테스트 데이터에 대한 점수 :  0.9122807017543859\n",
            "훈련 데이터와 테스트 데이터 비율 -> 80.0 : 20.0 \n",
            "깊이 -> 10\n",
            "훈련 데이터에 대한 점수 :  1.0\n",
            "테스트 데이터에 대한 점수 :  0.9122807017543859\n",
            "훈련 데이터와 테스트 데이터 비율 -> 70.0 : 30.0 \n",
            "깊이 -> 1\n",
            "훈련 데이터에 대한 점수 :  0.9321608040201005\n",
            "테스트 데이터에 대한 점수 :  0.8830409356725146\n",
            "훈련 데이터와 테스트 데이터 비율 -> 70.0 : 30.0 \n",
            "깊이 -> 2\n",
            "훈련 데이터에 대한 점수 :  0.9723618090452262\n",
            "테스트 데이터에 대한 점수 :  0.9122807017543859\n",
            "훈련 데이터와 테스트 데이터 비율 -> 70.0 : 30.0 \n",
            "깊이 -> 3\n",
            "훈련 데이터에 대한 점수 :  0.9824120603015075\n",
            "테스트 데이터에 대한 점수 :  0.9064327485380117\n",
            "훈련 데이터와 테스트 데이터 비율 -> 70.0 : 30.0 \n",
            "깊이 -> 4\n",
            "훈련 데이터에 대한 점수 :  0.9849246231155779\n",
            "테스트 데이터에 대한 점수 :  0.9064327485380117\n",
            "훈련 데이터와 테스트 데이터 비율 -> 70.0 : 30.0 \n",
            "깊이 -> 5\n",
            "훈련 데이터에 대한 점수 :  0.992462311557789\n",
            "테스트 데이터에 대한 점수 :  0.8888888888888888\n",
            "훈련 데이터와 테스트 데이터 비율 -> 70.0 : 30.0 \n",
            "깊이 -> 6\n",
            "훈련 데이터에 대한 점수 :  0.9974874371859297\n",
            "테스트 데이터에 대한 점수 :  0.9005847953216374\n",
            "훈련 데이터와 테스트 데이터 비율 -> 70.0 : 30.0 \n",
            "깊이 -> 7\n",
            "훈련 데이터에 대한 점수 :  0.9974874371859297\n",
            "테스트 데이터에 대한 점수 :  0.9122807017543859\n",
            "훈련 데이터와 테스트 데이터 비율 -> 70.0 : 30.0 \n",
            "깊이 -> 8\n",
            "훈련 데이터에 대한 점수 :  1.0\n",
            "테스트 데이터에 대한 점수 :  0.9181286549707602\n",
            "훈련 데이터와 테스트 데이터 비율 -> 70.0 : 30.0 \n",
            "깊이 -> 9\n",
            "훈련 데이터에 대한 점수 :  1.0\n",
            "테스트 데이터에 대한 점수 :  0.9181286549707602\n",
            "훈련 데이터와 테스트 데이터 비율 -> 70.0 : 30.0 \n",
            "깊이 -> 10\n",
            "훈련 데이터에 대한 점수 :  1.0\n",
            "테스트 데이터에 대한 점수 :  0.9181286549707602\n",
            "훈련 데이터와 테스트 데이터 비율 -> 60.0 : 40.0 \n",
            "깊이 -> 1\n",
            "훈련 데이터에 대한 점수 :  0.9354838709677419\n",
            "테스트 데이터에 대한 점수 :  0.8859649122807017\n",
            "훈련 데이터와 테스트 데이터 비율 -> 60.0 : 40.0 \n",
            "깊이 -> 2\n",
            "훈련 데이터에 대한 점수 :  0.9706744868035191\n",
            "테스트 데이터에 대한 점수 :  0.9166666666666666\n",
            "훈련 데이터와 테스트 데이터 비율 -> 60.0 : 40.0 \n",
            "깊이 -> 3\n",
            "훈련 데이터에 대한 점수 :  0.9824046920821115\n",
            "테스트 데이터에 대한 점수 :  0.9254385964912281\n",
            "훈련 데이터와 테스트 데이터 비율 -> 60.0 : 40.0 \n",
            "깊이 -> 4\n",
            "훈련 데이터에 대한 점수 :  0.9941348973607038\n",
            "테스트 데이터에 대한 점수 :  0.9385964912280702\n",
            "훈련 데이터와 테스트 데이터 비율 -> 60.0 : 40.0 \n",
            "깊이 -> 5\n",
            "훈련 데이터에 대한 점수 :  1.0\n",
            "테스트 데이터에 대한 점수 :  0.9210526315789473\n",
            "훈련 데이터와 테스트 데이터 비율 -> 60.0 : 40.0 \n",
            "깊이 -> 6\n",
            "훈련 데이터에 대한 점수 :  1.0\n",
            "테스트 데이터에 대한 점수 :  0.9210526315789473\n",
            "훈련 데이터와 테스트 데이터 비율 -> 60.0 : 40.0 \n",
            "깊이 -> 7\n",
            "훈련 데이터에 대한 점수 :  1.0\n",
            "테스트 데이터에 대한 점수 :  0.9210526315789473\n",
            "훈련 데이터와 테스트 데이터 비율 -> 60.0 : 40.0 \n",
            "깊이 -> 8\n",
            "훈련 데이터에 대한 점수 :  1.0\n",
            "테스트 데이터에 대한 점수 :  0.9210526315789473\n",
            "훈련 데이터와 테스트 데이터 비율 -> 60.0 : 40.0 \n",
            "깊이 -> 9\n",
            "훈련 데이터에 대한 점수 :  1.0\n",
            "테스트 데이터에 대한 점수 :  0.9210526315789473\n",
            "훈련 데이터와 테스트 데이터 비율 -> 60.0 : 40.0 \n",
            "깊이 -> 10\n",
            "훈련 데이터에 대한 점수 :  1.0\n",
            "테스트 데이터에 대한 점수 :  0.9210526315789473\n",
            "훈련 데이터와 테스트 데이터 비율 -> 50.0 : 50.0 \n",
            "깊이 -> 1\n",
            "훈련 데이터에 대한 점수 :  0.9436619718309859\n",
            "테스트 데이터에 대한 점수 :  0.887719298245614\n",
            "훈련 데이터와 테스트 데이터 비율 -> 50.0 : 50.0 \n",
            "깊이 -> 2\n",
            "훈련 데이터에 대한 점수 :  0.9683098591549296\n",
            "테스트 데이터에 대한 점수 :  0.9192982456140351\n",
            "훈련 데이터와 테스트 데이터 비율 -> 50.0 : 50.0 \n",
            "깊이 -> 3\n",
            "훈련 데이터에 대한 점수 :  0.9823943661971831\n",
            "테스트 데이터에 대한 점수 :  0.9228070175438596\n",
            "훈련 데이터와 테스트 데이터 비율 -> 50.0 : 50.0 \n",
            "깊이 -> 4\n",
            "훈련 데이터에 대한 점수 :  1.0\n",
            "테스트 데이터에 대한 점수 :  0.9333333333333333\n",
            "훈련 데이터와 테스트 데이터 비율 -> 50.0 : 50.0 \n",
            "깊이 -> 5\n",
            "훈련 데이터에 대한 점수 :  1.0\n",
            "테스트 데이터에 대한 점수 :  0.9333333333333333\n",
            "훈련 데이터와 테스트 데이터 비율 -> 50.0 : 50.0 \n",
            "깊이 -> 6\n",
            "훈련 데이터에 대한 점수 :  1.0\n",
            "테스트 데이터에 대한 점수 :  0.9333333333333333\n",
            "훈련 데이터와 테스트 데이터 비율 -> 50.0 : 50.0 \n",
            "깊이 -> 7\n",
            "훈련 데이터에 대한 점수 :  1.0\n",
            "테스트 데이터에 대한 점수 :  0.9333333333333333\n",
            "훈련 데이터와 테스트 데이터 비율 -> 50.0 : 50.0 \n",
            "깊이 -> 8\n",
            "훈련 데이터에 대한 점수 :  1.0\n",
            "테스트 데이터에 대한 점수 :  0.9333333333333333\n",
            "훈련 데이터와 테스트 데이터 비율 -> 50.0 : 50.0 \n",
            "깊이 -> 9\n",
            "훈련 데이터에 대한 점수 :  1.0\n",
            "테스트 데이터에 대한 점수 :  0.9333333333333333\n",
            "훈련 데이터와 테스트 데이터 비율 -> 50.0 : 50.0 \n",
            "깊이 -> 10\n",
            "훈련 데이터에 대한 점수 :  1.0\n",
            "테스트 데이터에 대한 점수 :  0.9333333333333333\n",
            "비율 50.0 일때 깊이 4, 정확도 0.9333333333333333\n"
          ],
          "name": "stdout"
        }
      ]
    },
    {
      "cell_type": "code",
      "metadata": {
        "id": "gVFU0xoP_OY-",
        "colab_type": "code",
        "outputId": "41993782-c540-4bc9-b1b0-09b79f20f343",
        "colab": {
          "base_uri": "https://localhost:8080/",
          "height": 125
        }
      },
      "source": [
        "model.feature_importances_"
      ],
      "execution_count": 0,
      "outputs": [
        {
          "output_type": "execute_result",
          "data": {
            "text/plain": [
              "array([0.        , 0.00765861, 0.00806757, 0.        , 0.00896396,\n",
              "       0.        , 0.        , 0.02636444, 0.        , 0.        ,\n",
              "       0.01280592, 0.        , 0.        , 0.        , 0.01849807,\n",
              "       0.        , 0.        , 0.        , 0.        , 0.        ,\n",
              "       0.        , 0.        , 0.        , 0.15797911, 0.00239039,\n",
              "       0.        , 0.01882432, 0.73844761, 0.        , 0.        ])"
            ]
          },
          "metadata": {
            "tags": []
          },
          "execution_count": 36
        }
      ]
    },
    {
      "cell_type": "code",
      "metadata": {
        "id": "Kkye1qbhH-pV",
        "colab_type": "code",
        "colab": {}
      },
      "source": [
        "import matplotlib.pyplot as plt\n",
        "import numpy as np"
      ],
      "execution_count": 0,
      "outputs": []
    },
    {
      "cell_type": "code",
      "metadata": {
        "id": "8bA8DWoIHW8O",
        "colab_type": "code",
        "colab": {}
      },
      "source": [
        "def plot_feature_imp_cancer(model):\n",
        " n_features = cancer.data.shape[1] #feature(변수의 개수)\n",
        " imp = model.feature_importances_  #feature의 중요도\n",
        " plt.barh(range(n_features) , imp, align='center') #그래프(가로 막대 그래프)\n",
        " plt.yticks(np.arange(n_features), cancer.feature_names) # y축의 축의값\n",
        " plt.xlabel(\"특성 중요도\") #y축 레이블(제목)\n",
        " plt.ylabel(\"특성\") #y축 제목\n",
        " plt.ylim(-1, n_features) #y축의 범위 지정 "
      ],
      "execution_count": 0,
      "outputs": []
    },
    {
      "cell_type": "code",
      "metadata": {
        "id": "xA2DTYRJIsHU",
        "colab_type": "code",
        "colab": {}
      },
      "source": [
        "def plot_feature_imp_cancer2(model,feature_num,feature_names):\n",
        " n_features = feature_num #feature(변수의 개수)\n",
        " imp = model.feature_importances_  #feature의 중요도\n",
        " plt.barh(range(n_features) , imp, align='center') #그래프(가로 막대 그래프)\n",
        " plt.yticks(np.arange(n_features), feature_names) # y축의 축의값\n",
        " plt.xlabel(\"특성 중요도\") #y축 레이블(제목)\n",
        " plt.ylabel(\"특성\") #y축 제목\n",
        " plt.ylim(-1, n_features) #y축의 범위 지정 "
      ],
      "execution_count": 0,
      "outputs": []
    },
    {
      "cell_type": "code",
      "metadata": {
        "id": "W-_Xh0euJGmf",
        "colab_type": "code",
        "outputId": "c10b7150-8c7b-4f86-eec7-5c6da534d9ce",
        "colab": {
          "base_uri": "https://localhost:8080/",
          "height": 639
        }
      },
      "source": [
        "feature_num = cancer.data.shape[1]\n",
        "feature_names = cancer.feature_names\n",
        "plot_feature_imp_cancer2(model,feature_num,feature_names)"
      ],
      "execution_count": 0,
      "outputs": [
        {
          "output_type": "stream",
          "text": [
            "/usr/local/lib/python3.6/dist-packages/matplotlib/backends/backend_agg.py:214: RuntimeWarning: Glyph 53945 missing from current font.\n",
            "  font.set_text(s, 0.0, flags=flags)\n",
            "/usr/local/lib/python3.6/dist-packages/matplotlib/backends/backend_agg.py:214: RuntimeWarning: Glyph 49457 missing from current font.\n",
            "  font.set_text(s, 0.0, flags=flags)\n",
            "/usr/local/lib/python3.6/dist-packages/matplotlib/backends/backend_agg.py:214: RuntimeWarning: Glyph 51473 missing from current font.\n",
            "  font.set_text(s, 0.0, flags=flags)\n",
            "/usr/local/lib/python3.6/dist-packages/matplotlib/backends/backend_agg.py:214: RuntimeWarning: Glyph 50836 missing from current font.\n",
            "  font.set_text(s, 0.0, flags=flags)\n",
            "/usr/local/lib/python3.6/dist-packages/matplotlib/backends/backend_agg.py:214: RuntimeWarning: Glyph 46020 missing from current font.\n",
            "  font.set_text(s, 0.0, flags=flags)\n",
            "/usr/local/lib/python3.6/dist-packages/matplotlib/backends/backend_agg.py:183: RuntimeWarning: Glyph 53945 missing from current font.\n",
            "  font.set_text(s, 0, flags=flags)\n",
            "/usr/local/lib/python3.6/dist-packages/matplotlib/backends/backend_agg.py:183: RuntimeWarning: Glyph 49457 missing from current font.\n",
            "  font.set_text(s, 0, flags=flags)\n",
            "/usr/local/lib/python3.6/dist-packages/matplotlib/backends/backend_agg.py:183: RuntimeWarning: Glyph 51473 missing from current font.\n",
            "  font.set_text(s, 0, flags=flags)\n",
            "/usr/local/lib/python3.6/dist-packages/matplotlib/backends/backend_agg.py:183: RuntimeWarning: Glyph 50836 missing from current font.\n",
            "  font.set_text(s, 0, flags=flags)\n",
            "/usr/local/lib/python3.6/dist-packages/matplotlib/backends/backend_agg.py:183: RuntimeWarning: Glyph 46020 missing from current font.\n",
            "  font.set_text(s, 0, flags=flags)\n"
          ],
          "name": "stderr"
        },
        {
          "output_type": "display_data",
          "data": {
            "image/png": "[encoded data removed]",
            "text/plain": [
              "<Figure size 432x288 with 1 Axes>"
            ]
          },
          "metadata": {
            "tags": [],
            "needs_background": "light"
          }
        }
      ]
    },
    {
      "cell_type": "code",
      "metadata": {
        "id": "dWKL1XkDISEX",
        "colab_type": "code",
        "outputId": "90ecaeb1-30cf-44a7-ddc5-dd30ad59326b",
        "colab": {
          "base_uri": "https://localhost:8080/",
          "height": 639
        }
      },
      "source": [
        "plot_feature_imp_cancer(model);"
      ],
      "execution_count": 0,
      "outputs": [
        {
          "output_type": "stream",
          "text": [
            "/usr/local/lib/python3.6/dist-packages/matplotlib/backends/backend_agg.py:214: RuntimeWarning: Glyph 53945 missing from current font.\n",
            "  font.set_text(s, 0.0, flags=flags)\n",
            "/usr/local/lib/python3.6/dist-packages/matplotlib/backends/backend_agg.py:214: RuntimeWarning: Glyph 49457 missing from current font.\n",
            "  font.set_text(s, 0.0, flags=flags)\n",
            "/usr/local/lib/python3.6/dist-packages/matplotlib/backends/backend_agg.py:214: RuntimeWarning: Glyph 51473 missing from current font.\n",
            "  font.set_text(s, 0.0, flags=flags)\n",
            "/usr/local/lib/python3.6/dist-packages/matplotlib/backends/backend_agg.py:214: RuntimeWarning: Glyph 50836 missing from current font.\n",
            "  font.set_text(s, 0.0, flags=flags)\n",
            "/usr/local/lib/python3.6/dist-packages/matplotlib/backends/backend_agg.py:214: RuntimeWarning: Glyph 46020 missing from current font.\n",
            "  font.set_text(s, 0.0, flags=flags)\n",
            "/usr/local/lib/python3.6/dist-packages/matplotlib/backends/backend_agg.py:183: RuntimeWarning: Glyph 53945 missing from current font.\n",
            "  font.set_text(s, 0, flags=flags)\n",
            "/usr/local/lib/python3.6/dist-packages/matplotlib/backends/backend_agg.py:183: RuntimeWarning: Glyph 49457 missing from current font.\n",
            "  font.set_text(s, 0, flags=flags)\n",
            "/usr/local/lib/python3.6/dist-packages/matplotlib/backends/backend_agg.py:183: RuntimeWarning: Glyph 51473 missing from current font.\n",
            "  font.set_text(s, 0, flags=flags)\n",
            "/usr/local/lib/python3.6/dist-packages/matplotlib/backends/backend_agg.py:183: RuntimeWarning: Glyph 50836 missing from current font.\n",
            "  font.set_text(s, 0, flags=flags)\n",
            "/usr/local/lib/python3.6/dist-packages/matplotlib/backends/backend_agg.py:183: RuntimeWarning: Glyph 46020 missing from current font.\n",
            "  font.set_text(s, 0, flags=flags)\n"
          ],
          "name": "stderr"
        },
        {
          "output_type": "display_data",
          "data": {
            "image/png": "[encoded data removed]",
            "text/plain": [
              "<Figure size 432x288 with 1 Axes>"
            ]
          },
          "metadata": {
            "tags": [],
            "needs_background": "light"
          }
        }
      ]
    },
    {
      "cell_type": "code",
      "metadata": {
        "id": "zgEMLjZuIWXO",
        "colab_type": "code",
        "colab": {}
      },
      "source": [
        ""
      ],
      "execution_count": 0,
      "outputs": []
    }
  ]
}